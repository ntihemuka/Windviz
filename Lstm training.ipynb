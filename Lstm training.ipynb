{
 "cells": [
  {
   "cell_type": "code",
   "execution_count": 2,
   "id": "criminal-video",
   "metadata": {
    "scrolled": true
   },
   "outputs": [
    {
     "data": {
      "text/html": [
       "        <script type=\"text/javascript\">\n",
       "        window.PlotlyConfig = {MathJaxConfig: 'local'};\n",
       "        if (window.MathJax) {MathJax.Hub.Config({SVG: {font: \"STIX-Web\"}});}\n",
       "        if (typeof require !== 'undefined') {\n",
       "        require.undef(\"plotly\");\n",
       "        requirejs.config({\n",
       "            paths: {\n",
       "                'plotly': ['https://cdn.plot.ly/plotly-2.6.3.min']\n",
       "            }\n",
       "        });\n",
       "        require(['plotly'], function(Plotly) {\n",
       "            window._Plotly = Plotly;\n",
       "        });\n",
       "        }\n",
       "        </script>\n",
       "        "
      ]
     },
     "metadata": {},
     "output_type": "display_data"
    }
   ],
   "source": [
    "import pandas as pd\n",
    "import os\n",
    "import warnings\n",
    "import numpy as np\n",
    "import matplotlib.pyplot as plt\n",
    "from collections import UserDict\n",
    "import seaborn as sns\n",
    "from sklearn.preprocessing import MinMaxScaler\n",
    "import plotly.express as px\n",
    "from sklearn.metrics import mean_squared_error, mean_absolute_error\n",
    "from sklearn.metrics import r2_score, explained_variance_score\n",
    "from math import sqrt\n",
    "\n",
    "from tensorflow import keras\n",
    "\n",
    "from tensorflow.keras.preprocessing.sequence import TimeseriesGenerator\n",
    "from tensorflow.keras.models import Sequential\n",
    "from tensorflow.keras.layers import Dense\n",
    "from tensorflow.keras.layers import LSTM\n",
    "from tensorflow.keras.layers import Dropout\n",
    "import warnings\n",
    "warnings.filterwarnings(\"ignore\")\n",
    "\n",
    "from keras.callbacks import EarlyStopping\n",
    "from math import sqrt\n",
    "\n",
    "from pandas.tseries.offsets import DateOffset\n",
    "import datetime\n",
    "import time\n",
    "\n",
    "from pandas import DataFrame\n",
    "from pandas import Series\n",
    "from pandas import concat\n",
    "from pandas import read_csv\n",
    "import datetime\n",
    "import chart_studio.plotly as py\n",
    "import plotly.offline as pyoff\n",
    "import plotly.graph_objs as go\n",
    "pyoff.init_notebook_mode(connected=True)\n",
    "%matplotlib inline\n"
   ]
  },
  {
   "cell_type": "markdown",
   "id": "little-robertson",
   "metadata": {},
   "source": [
    "Lets Download read in the data set, then subset it keeping only the variables needed\n"
   ]
  },
  {
   "cell_type": "markdown",
   "id": "temporal-fever",
   "metadata": {},
   "source": [
    "lets get the dataset AND SUBSET ON LTHE LAST 12 MONTHS"
   ]
  },
  {
   "cell_type": "code",
   "execution_count": 3,
   "id": "arabic-bottle",
   "metadata": {
    "scrolled": false
   },
   "outputs": [],
   "source": [
    "data= pd.read_csv('C:\\\\Users\\\\lydia\\\\OneDrive\\\\Msc Data Science\\\\CETM46 product development\\\\assigment 2 part2\\\\windapp\\\\T1.csv')\n",
    "\n"
   ]
  },
  {
   "cell_type": "markdown",
   "id": "sublime-mailing",
   "metadata": {},
   "source": [
    "                           Data Cleaning"
   ]
  },
  {
   "cell_type": "code",
   "execution_count": 3,
   "id": "english-russell",
   "metadata": {},
   "outputs": [],
   "source": [
    "data.columns = ['Date','Power','Wind_speed','Theoretical_power','Wind_direction']"
   ]
  },
  {
   "cell_type": "code",
   "execution_count": 4,
   "id": "acting-pittsburgh",
   "metadata": {},
   "outputs": [
    {
     "data": {
      "text/html": [
       "<div>\n",
       "<style scoped>\n",
       "    .dataframe tbody tr th:only-of-type {\n",
       "        vertical-align: middle;\n",
       "    }\n",
       "\n",
       "    .dataframe tbody tr th {\n",
       "        vertical-align: top;\n",
       "    }\n",
       "\n",
       "    .dataframe thead th {\n",
       "        text-align: right;\n",
       "    }\n",
       "</style>\n",
       "<table border=\"1\" class=\"dataframe\">\n",
       "  <thead>\n",
       "    <tr style=\"text-align: right;\">\n",
       "      <th></th>\n",
       "      <th>Date</th>\n",
       "      <th>Power</th>\n",
       "      <th>Wind_speed</th>\n",
       "      <th>Theoretical_power</th>\n",
       "      <th>Wind_direction</th>\n",
       "    </tr>\n",
       "  </thead>\n",
       "  <tbody>\n",
       "    <tr>\n",
       "      <th>0</th>\n",
       "      <td>01 01 2018 00:00</td>\n",
       "      <td>380.047791</td>\n",
       "      <td>5.311336</td>\n",
       "      <td>416.328908</td>\n",
       "      <td>259.994904</td>\n",
       "    </tr>\n",
       "    <tr>\n",
       "      <th>1</th>\n",
       "      <td>01 01 2018 00:10</td>\n",
       "      <td>453.769196</td>\n",
       "      <td>5.672167</td>\n",
       "      <td>519.917511</td>\n",
       "      <td>268.641113</td>\n",
       "    </tr>\n",
       "    <tr>\n",
       "      <th>2</th>\n",
       "      <td>01 01 2018 00:20</td>\n",
       "      <td>306.376587</td>\n",
       "      <td>5.216037</td>\n",
       "      <td>390.900016</td>\n",
       "      <td>272.564789</td>\n",
       "    </tr>\n",
       "    <tr>\n",
       "      <th>3</th>\n",
       "      <td>01 01 2018 00:30</td>\n",
       "      <td>419.645905</td>\n",
       "      <td>5.659674</td>\n",
       "      <td>516.127569</td>\n",
       "      <td>271.258087</td>\n",
       "    </tr>\n",
       "    <tr>\n",
       "      <th>4</th>\n",
       "      <td>01 01 2018 00:40</td>\n",
       "      <td>380.650696</td>\n",
       "      <td>5.577941</td>\n",
       "      <td>491.702972</td>\n",
       "      <td>265.674286</td>\n",
       "    </tr>\n",
       "    <tr>\n",
       "      <th>...</th>\n",
       "      <td>...</td>\n",
       "      <td>...</td>\n",
       "      <td>...</td>\n",
       "      <td>...</td>\n",
       "      <td>...</td>\n",
       "    </tr>\n",
       "    <tr>\n",
       "      <th>50525</th>\n",
       "      <td>31 12 2018 23:10</td>\n",
       "      <td>2963.980957</td>\n",
       "      <td>11.404030</td>\n",
       "      <td>3397.190793</td>\n",
       "      <td>80.502724</td>\n",
       "    </tr>\n",
       "    <tr>\n",
       "      <th>50526</th>\n",
       "      <td>31 12 2018 23:20</td>\n",
       "      <td>1684.353027</td>\n",
       "      <td>7.332648</td>\n",
       "      <td>1173.055771</td>\n",
       "      <td>84.062599</td>\n",
       "    </tr>\n",
       "    <tr>\n",
       "      <th>50527</th>\n",
       "      <td>31 12 2018 23:30</td>\n",
       "      <td>2201.106934</td>\n",
       "      <td>8.435358</td>\n",
       "      <td>1788.284755</td>\n",
       "      <td>84.742500</td>\n",
       "    </tr>\n",
       "    <tr>\n",
       "      <th>50528</th>\n",
       "      <td>31 12 2018 23:40</td>\n",
       "      <td>2515.694092</td>\n",
       "      <td>9.421366</td>\n",
       "      <td>2418.382503</td>\n",
       "      <td>84.297913</td>\n",
       "    </tr>\n",
       "    <tr>\n",
       "      <th>50529</th>\n",
       "      <td>31 12 2018 23:50</td>\n",
       "      <td>2820.466064</td>\n",
       "      <td>9.979332</td>\n",
       "      <td>2779.184096</td>\n",
       "      <td>82.274620</td>\n",
       "    </tr>\n",
       "  </tbody>\n",
       "</table>\n",
       "<p>50530 rows × 5 columns</p>\n",
       "</div>"
      ],
      "text/plain": [
       "                   Date        Power  Wind_speed  Theoretical_power  \\\n",
       "0      01 01 2018 00:00   380.047791    5.311336         416.328908   \n",
       "1      01 01 2018 00:10   453.769196    5.672167         519.917511   \n",
       "2      01 01 2018 00:20   306.376587    5.216037         390.900016   \n",
       "3      01 01 2018 00:30   419.645905    5.659674         516.127569   \n",
       "4      01 01 2018 00:40   380.650696    5.577941         491.702972   \n",
       "...                 ...          ...         ...                ...   \n",
       "50525  31 12 2018 23:10  2963.980957   11.404030        3397.190793   \n",
       "50526  31 12 2018 23:20  1684.353027    7.332648        1173.055771   \n",
       "50527  31 12 2018 23:30  2201.106934    8.435358        1788.284755   \n",
       "50528  31 12 2018 23:40  2515.694092    9.421366        2418.382503   \n",
       "50529  31 12 2018 23:50  2820.466064    9.979332        2779.184096   \n",
       "\n",
       "       Wind_direction  \n",
       "0          259.994904  \n",
       "1          268.641113  \n",
       "2          272.564789  \n",
       "3          271.258087  \n",
       "4          265.674286  \n",
       "...               ...  \n",
       "50525       80.502724  \n",
       "50526       84.062599  \n",
       "50527       84.742500  \n",
       "50528       84.297913  \n",
       "50529       82.274620  \n",
       "\n",
       "[50530 rows x 5 columns]"
      ]
     },
     "execution_count": 4,
     "metadata": {},
     "output_type": "execute_result"
    }
   ],
   "source": [
    "data.dtypes\n",
    "data\n",
    "\n"
   ]
  },
  {
   "cell_type": "markdown",
   "id": "million-senior",
   "metadata": {},
   "source": [
    "find missing values"
   ]
  },
  {
   "cell_type": "code",
   "execution_count": 5,
   "id": "invalid-adobe",
   "metadata": {
    "scrolled": false
   },
   "outputs": [
    {
     "data": {
      "text/plain": [
       "Date                 0\n",
       "Power                0\n",
       "Wind_speed           0\n",
       "Theoretical_power    0\n",
       "Wind_direction       0\n",
       "dtype: int64"
      ]
     },
     "execution_count": 5,
     "metadata": {},
     "output_type": "execute_result"
    }
   ],
   "source": [
    "data.isnull().sum()"
   ]
  },
  {
   "cell_type": "markdown",
   "id": "drawn-wednesday",
   "metadata": {},
   "source": [
    "I will delete NA as its a negligeable amount compared to our 200 thousand dataframe"
   ]
  },
  {
   "cell_type": "code",
   "execution_count": 6,
   "id": "romance-vinyl",
   "metadata": {},
   "outputs": [
    {
     "data": {
      "text/plain": [
       "50530"
      ]
     },
     "execution_count": 6,
     "metadata": {},
     "output_type": "execute_result"
    }
   ],
   "source": [
    "data =data.dropna()\n",
    "data.shape[0]"
   ]
  },
  {
   "cell_type": "markdown",
   "id": "square-trash",
   "metadata": {},
   "source": [
    "remove  outliers"
   ]
  },
  {
   "cell_type": "code",
   "execution_count": 7,
   "id": "selected-milwaukee",
   "metadata": {},
   "outputs": [],
   "source": [
    "data = data[data.Power>0]"
   ]
  },
  {
   "cell_type": "markdown",
   "id": "persistent-quantum",
   "metadata": {},
   "source": [
    "We identify some events when there is power produced by the turbine although wind speed is below threshold 3 m/s."
   ]
  },
  {
   "cell_type": "markdown",
   "id": "sought-concentration",
   "metadata": {},
   "source": [
    "And we identify some events when there is ZERO power produced although wind speed is above 3 m/s and theoretical power is expected to be not ZERO. We see these happen most frequently in January and December."
   ]
  },
  {
   "cell_type": "code",
   "execution_count": 8,
   "id": "surprised-death",
   "metadata": {
    "scrolled": true
   },
   "outputs": [
    {
     "data": {
      "image/png": "[encoded data removed]",
      "text/plain": [
       "<Figure size 864x360 with 2 Axes>"
      ]
     },
     "metadata": {
      "needs_background": "light"
     },
     "output_type": "display_data"
    }
   ],
   "source": [
    "f = plt.figure(figsize=(12,5))\n",
    "\n",
    "ax1 = f.add_subplot(121)\n",
    "ax2 = f.add_subplot(122)\n",
    "\n",
    "ax1.hist(data['Wind_speed'],bins = 20, edgecolor = 'black', linewidth = 1.5)\n",
    "ax1.set_title('Wind Speed  Distribution 2013-2016')\n",
    "ax1.set_xlabel('Wind Speed [m/s]')\n",
    "ax1.set_ylabel('Count')\n",
    "ax2.hist(data['Power'],bins = 20, edgecolor = 'black', linewidth = 1.5)\n",
    "ax2.set_title('Power Output Distribution 2013-2016')\n",
    "ax2.set_xlabel('Power Output [kW]')\n",
    "ax2.set_ylabel('Count')\n",
    "\n",
    "plt.show()"
   ]
  },
  {
   "cell_type": "code",
   "execution_count": 9,
   "id": "balanced-escape",
   "metadata": {},
   "outputs": [
    {
     "data": {
      "text/plain": [
       "39691"
      ]
     },
     "execution_count": 9,
     "metadata": {},
     "output_type": "execute_result"
    }
   ],
   "source": [
    "df_clean = data[data['Wind_speed']>3]\n",
    "df_clean = data[data['Wind_speed'] < 25]\n",
    "\n",
    "df_clean.shape[0]"
   ]
  },
  {
   "cell_type": "markdown",
   "id": "affecting-hypothetical",
   "metadata": {},
   "source": [
    "lets see what we have now"
   ]
  },
  {
   "cell_type": "markdown",
   "id": "split-brick",
   "metadata": {},
   "source": [
    "lets create features to help us visualise our data better "
   ]
  },
  {
   "cell_type": "markdown",
   "id": "modern-census",
   "metadata": {},
   "source": [
    "i also want to see how much loss based on theoretica output and actual output"
   ]
  },
  {
   "cell_type": "code",
   "execution_count": 10,
   "id": "heated-kazakhstan",
   "metadata": {},
   "outputs": [],
   "source": [
    "df_clean['loss'] = df_clean['Theoretical_power'] - df_clean['Power']"
   ]
  },
  {
   "cell_type": "code",
   "execution_count": 11,
   "id": "complimentary-eating",
   "metadata": {},
   "outputs": [],
   "source": [
    "df_clean['Date'] = pd.to_datetime(data['Date'])\n",
    "df_clean.sort_values(by=['Date'], inplace=True, ascending=True)\n",
    "\n",
    "df_clean['Year'] = df_clean['Date'].dt.year\n",
    "df_clean['Month'] = df_clean['Date'].dt.month\n",
    "df_clean['Day'] =  df_clean['Date'].dt.day\n",
    "df_clean['Hour'] =  df_clean['Date'].dt.hour\n",
    "df_clean= df_clean.set_index('Date')\n"
   ]
  },
  {
   "cell_type": "markdown",
   "id": "professional-liechtenstein",
   "metadata": {},
   "source": [
    "I want to train on the hourly production instead of the ten minute production "
   ]
  },
  {
   "cell_type": "code",
   "execution_count": 12,
   "id": "dimensional-lingerie",
   "metadata": {},
   "outputs": [],
   "source": [
    "#empty data frame\n",
    "df_model =pd.DataFrame()\n"
   ]
  },
  {
   "cell_type": "code",
   "execution_count": 13,
   "id": "automotive-semester",
   "metadata": {},
   "outputs": [],
   "source": [
    "\n",
    "#total power outpuy per hour\n",
    "df_model['Power'] =df_clean.resample('H').median().Power\n",
    "#average wind direction per hour\n",
    "df_model['Wind_direction']=df_clean.resample('H').median().Wind_direction\n",
    "#average theoretical power\n",
    "df_model['Theoretical_power'] = df_clean.resample('H').median().Theoretical_power\n",
    "#average wind speed per hour\n",
    "df_model['Wind_speed'] = df_clean.resample('H').median().Wind_speed"
   ]
  },
  {
   "cell_type": "code",
   "execution_count": 14,
   "id": "finished-breed",
   "metadata": {},
   "outputs": [],
   "source": [
    "df_model = df_model.dropna()"
   ]
  },
  {
   "cell_type": "markdown",
   "id": "second-english",
   "metadata": {},
   "source": [
    "lets create training testing and validation splits"
   ]
  },
  {
   "cell_type": "code",
   "execution_count": 15,
   "id": "shared-devon",
   "metadata": {},
   "outputs": [],
   "source": [
    "valid_st_data_energy = pd.to_datetime('2018-10-12 23:00:00')\n",
    "test_st_data_energy = pd.to_datetime('2018-11-12 23:00:00')"
   ]
  },
  {
   "cell_type": "code",
   "execution_count": 16,
   "id": "young-maldives",
   "metadata": {},
   "outputs": [],
   "source": [
    "\n",
    "train = df_model[df_model.index <valid_st_data_energy]\n",
    "validation = df_model.loc[(df_model.index >=valid_st_data_energy)&(df_model.index <test_st_data_energy )]\n",
    "\n",
    "test = df_model[df_model.index > test_st_data_energy ]\n"
   ]
  },
  {
   "cell_type": "code",
   "execution_count": 17,
   "id": "surface-grave",
   "metadata": {},
   "outputs": [
    {
     "data": {
      "text/html": [
       "<div>\n",
       "<style scoped>\n",
       "    .dataframe tbody tr th:only-of-type {\n",
       "        vertical-align: middle;\n",
       "    }\n",
       "\n",
       "    .dataframe tbody tr th {\n",
       "        vertical-align: top;\n",
       "    }\n",
       "\n",
       "    .dataframe thead th {\n",
       "        text-align: right;\n",
       "    }\n",
       "</style>\n",
       "<table border=\"1\" class=\"dataframe\">\n",
       "  <thead>\n",
       "    <tr style=\"text-align: right;\">\n",
       "      <th></th>\n",
       "      <th>Power</th>\n",
       "      <th>Wind_direction</th>\n",
       "      <th>Theoretical_power</th>\n",
       "      <th>Wind_speed</th>\n",
       "    </tr>\n",
       "    <tr>\n",
       "      <th>Date</th>\n",
       "      <th></th>\n",
       "      <th></th>\n",
       "      <th></th>\n",
       "      <th></th>\n",
       "    </tr>\n",
       "  </thead>\n",
       "  <tbody>\n",
       "    <tr>\n",
       "      <th>2018-01-01 00:00:00</th>\n",
       "      <td>391.521347</td>\n",
       "      <td>267.157700</td>\n",
       "      <td>495.569678</td>\n",
       "      <td>5.590997</td>\n",
       "    </tr>\n",
       "    <tr>\n",
       "      <th>2018-01-01 01:00:00</th>\n",
       "      <td>455.628464</td>\n",
       "      <td>258.336639</td>\n",
       "      <td>514.759525</td>\n",
       "      <td>5.654372</td>\n",
       "    </tr>\n",
       "    <tr>\n",
       "      <th>2018-01-01 02:00:00</th>\n",
       "      <td>745.607452</td>\n",
       "      <td>266.746796</td>\n",
       "      <td>796.689574</td>\n",
       "      <td>6.476018</td>\n",
       "    </tr>\n",
       "    <tr>\n",
       "      <th>2018-01-01 03:00:00</th>\n",
       "      <td>861.139801</td>\n",
       "      <td>255.956100</td>\n",
       "      <td>876.253921</td>\n",
       "      <td>6.667778</td>\n",
       "    </tr>\n",
       "    <tr>\n",
       "      <th>2018-01-01 04:00:00</th>\n",
       "      <td>1439.648010</td>\n",
       "      <td>246.694801</td>\n",
       "      <td>1479.699757</td>\n",
       "      <td>7.911346</td>\n",
       "    </tr>\n",
       "    <tr>\n",
       "      <th>...</th>\n",
       "      <td>...</td>\n",
       "      <td>...</td>\n",
       "      <td>...</td>\n",
       "      <td>...</td>\n",
       "    </tr>\n",
       "    <tr>\n",
       "      <th>2018-10-12 18:00:00</th>\n",
       "      <td>780.665955</td>\n",
       "      <td>36.541515</td>\n",
       "      <td>718.881214</td>\n",
       "      <td>6.267241</td>\n",
       "    </tr>\n",
       "    <tr>\n",
       "      <th>2018-10-12 19:00:00</th>\n",
       "      <td>877.244263</td>\n",
       "      <td>17.247205</td>\n",
       "      <td>767.102484</td>\n",
       "      <td>6.391208</td>\n",
       "    </tr>\n",
       "    <tr>\n",
       "      <th>2018-10-12 20:00:00</th>\n",
       "      <td>885.671204</td>\n",
       "      <td>335.033661</td>\n",
       "      <td>813.095535</td>\n",
       "      <td>6.515735</td>\n",
       "    </tr>\n",
       "    <tr>\n",
       "      <th>2018-10-12 21:00:00</th>\n",
       "      <td>2518.303955</td>\n",
       "      <td>340.645493</td>\n",
       "      <td>2506.202338</td>\n",
       "      <td>9.566032</td>\n",
       "    </tr>\n",
       "    <tr>\n",
       "      <th>2018-10-12 22:00:00</th>\n",
       "      <td>3542.353394</td>\n",
       "      <td>331.028198</td>\n",
       "      <td>3592.023819</td>\n",
       "      <td>12.722380</td>\n",
       "    </tr>\n",
       "  </tbody>\n",
       "</table>\n",
       "<p>5532 rows × 4 columns</p>\n",
       "</div>"
      ],
      "text/plain": [
       "                           Power  Wind_direction  Theoretical_power  \\\n",
       "Date                                                                  \n",
       "2018-01-01 00:00:00   391.521347      267.157700         495.569678   \n",
       "2018-01-01 01:00:00   455.628464      258.336639         514.759525   \n",
       "2018-01-01 02:00:00   745.607452      266.746796         796.689574   \n",
       "2018-01-01 03:00:00   861.139801      255.956100         876.253921   \n",
       "2018-01-01 04:00:00  1439.648010      246.694801        1479.699757   \n",
       "...                          ...             ...                ...   \n",
       "2018-10-12 18:00:00   780.665955       36.541515         718.881214   \n",
       "2018-10-12 19:00:00   877.244263       17.247205         767.102484   \n",
       "2018-10-12 20:00:00   885.671204      335.033661         813.095535   \n",
       "2018-10-12 21:00:00  2518.303955      340.645493        2506.202338   \n",
       "2018-10-12 22:00:00  3542.353394      331.028198        3592.023819   \n",
       "\n",
       "                     Wind_speed  \n",
       "Date                             \n",
       "2018-01-01 00:00:00    5.590997  \n",
       "2018-01-01 01:00:00    5.654372  \n",
       "2018-01-01 02:00:00    6.476018  \n",
       "2018-01-01 03:00:00    6.667778  \n",
       "2018-01-01 04:00:00    7.911346  \n",
       "...                         ...  \n",
       "2018-10-12 18:00:00    6.267241  \n",
       "2018-10-12 19:00:00    6.391208  \n",
       "2018-10-12 20:00:00    6.515735  \n",
       "2018-10-12 21:00:00    9.566032  \n",
       "2018-10-12 22:00:00   12.722380  \n",
       "\n",
       "[5532 rows x 4 columns]"
      ]
     },
     "execution_count": 17,
     "metadata": {},
     "output_type": "execute_result"
    }
   ],
   "source": [
    "train "
   ]
  },
  {
   "cell_type": "markdown",
   "id": "stretch-thing",
   "metadata": {},
   "source": [
    "lets split to different turbine specific data frames"
   ]
  },
  {
   "cell_type": "code",
   "execution_count": 18,
   "id": "operational-promotion",
   "metadata": {},
   "outputs": [
    {
     "data": {
      "image/png": "[encoded data removed]",
      "text/plain": [
       "<Figure size 1440x720 with 1 Axes>"
      ]
     },
     "metadata": {},
     "output_type": "display_data"
    }
   ],
   "source": [
    "sns.set_style(\"whitegrid\")\n",
    "plt.figure(figsize=(20,10))\n",
    "plt.plot(train['Power'],label=\"train\")\n",
    "plt.plot(validation['Power'],label=\"validation\")\n",
    "plt.plot(test['Power'],label=\"test\")\n",
    "plt.legend(loc='upper right')\n",
    "plt.xlabel(\"Number of hours\")\n",
    "plt.ylabel(\"Power generated by ssite\")\n",
    "plt.show()"
   ]
  },
  {
   "cell_type": "markdown",
   "id": "vocal-winning",
   "metadata": {},
   "source": [
    "letd create individual time series out of each turbine"
   ]
  },
  {
   "cell_type": "code",
   "execution_count": 19,
   "id": "jewish-rwanda",
   "metadata": {
    "scrolled": true
   },
   "outputs": [],
   "source": [
    "def make_timeseries(data):\n",
    "    '''takes the sight and returns univariet time series'''\n",
    "    Turbine = pd.DataFrame(data['Power'])\n",
    "    return(Turbine)"
   ]
  },
  {
   "cell_type": "code",
   "execution_count": 20,
   "id": "plain-baseline",
   "metadata": {},
   "outputs": [],
   "source": [
    "ts_train = make_timeseries(train)\n",
    "ts_validation = make_timeseries(validation)\n",
    "ts_test = make_timeseries(test)\n",
    "\n"
   ]
  },
  {
   "cell_type": "code",
   "execution_count": 21,
   "id": "driving-firmware",
   "metadata": {},
   "outputs": [
    {
     "data": {
      "text/plain": [
       "Power                0\n",
       "Wind_direction       0\n",
       "Theoretical_power    0\n",
       "Wind_speed           0\n",
       "dtype: int64"
      ]
     },
     "execution_count": 21,
     "metadata": {},
     "output_type": "execute_result"
    }
   ],
   "source": [
    "df_model.isnull().sum()"
   ]
  },
  {
   "cell_type": "markdown",
   "id": "industrial-collector",
   "metadata": {},
   "source": [
    "           lets plot the different outputs of all work with one trubine for now then repeate for all of them"
   ]
  },
  {
   "cell_type": "code",
   "execution_count": 49,
   "id": "innovative-regulation",
   "metadata": {
    "scrolled": true
   },
   "outputs": [
    {
     "ename": "AttributeError",
     "evalue": "'WindroseAxes' object has no attribute 'show'",
     "output_type": "error",
     "traceback": [
      "\u001b[1;31m---------------------------------------------------------------------------\u001b[0m",
      "\u001b[1;31mAttributeError\u001b[0m                            Traceback (most recent call last)",
      "\u001b[1;32m~\\AppData\\Local\\Temp/ipykernel_16936/283322457.py\u001b[0m in \u001b[0;36m<module>\u001b[1;34m\u001b[0m\n\u001b[0;32m      3\u001b[0m \u001b[0mfig\u001b[0m \u001b[1;33m=\u001b[0m \u001b[0mplot_windrose\u001b[0m\u001b[1;33m(\u001b[0m\u001b[0mdata\u001b[0m\u001b[1;33m,\u001b[0m \u001b[0mkind\u001b[0m\u001b[1;33m=\u001b[0m\u001b[1;34m'contour'\u001b[0m\u001b[1;33m,\u001b[0m\u001b[0mdirection_name\u001b[0m\u001b[1;33m=\u001b[0m\u001b[1;34m'Wind_direction'\u001b[0m\u001b[1;33m,\u001b[0m\u001b[0mvar_name\u001b[0m\u001b[1;33m=\u001b[0m\u001b[1;34m'Wind_speed'\u001b[0m\u001b[1;33m,\u001b[0m  \u001b[0mlw\u001b[0m\u001b[1;33m=\u001b[0m\u001b[1;36m3\u001b[0m\u001b[1;33m)\u001b[0m\u001b[1;33m\u001b[0m\u001b[1;33m\u001b[0m\u001b[0m\n\u001b[0;32m      4\u001b[0m \u001b[1;33m\u001b[0m\u001b[0m\n\u001b[1;32m----> 5\u001b[1;33m \u001b[0mfig\u001b[0m\u001b[1;33m.\u001b[0m\u001b[0mshow\u001b[0m\u001b[1;33m\u001b[0m\u001b[1;33m\u001b[0m\u001b[0m\n\u001b[0m",
      "\u001b[1;31mAttributeError\u001b[0m: 'WindroseAxes' object has no attribute 'show'"
     ]
    },
    {
     "data": {
      "image/png": "[encoded data removed]",
      "text/plain": [
       "<Figure size 640x640 with 1 Axes>"
      ]
     },
     "metadata": {},
     "output_type": "display_data"
    }
   ],
   "source": [
    "from windrose import plot_windrose\n",
    "\n",
    "fig = plot_windrose(data, kind='contour',direction_name='Wind_direction',var_name='Wind_speed',  lw=3)\n",
    "\n",
    "fig.show"
   ]
  },
  {
   "cell_type": "code",
   "execution_count": 39,
   "id": "logical-schedule",
   "metadata": {},
   "outputs": [
    {
     "data": {
      "text/html": [
       "<div>\n",
       "<style scoped>\n",
       "    .dataframe tbody tr th:only-of-type {\n",
       "        vertical-align: middle;\n",
       "    }\n",
       "\n",
       "    .dataframe tbody tr th {\n",
       "        vertical-align: top;\n",
       "    }\n",
       "\n",
       "    .dataframe thead th {\n",
       "        text-align: right;\n",
       "    }\n",
       "</style>\n",
       "<table border=\"1\" class=\"dataframe\">\n",
       "  <thead>\n",
       "    <tr style=\"text-align: right;\">\n",
       "      <th></th>\n",
       "      <th>Date</th>\n",
       "      <th>Power</th>\n",
       "      <th>Wind_speed</th>\n",
       "      <th>Theoretical_power</th>\n",
       "      <th>Wind_direction</th>\n",
       "    </tr>\n",
       "  </thead>\n",
       "  <tbody>\n",
       "    <tr>\n",
       "      <th>50520</th>\n",
       "      <td>31 12 2018 22:20</td>\n",
       "      <td>2771.110107</td>\n",
       "      <td>10.154550</td>\n",
       "      <td>2884.512812</td>\n",
       "      <td>82.335197</td>\n",
       "    </tr>\n",
       "    <tr>\n",
       "      <th>50521</th>\n",
       "      <td>31 12 2018 22:30</td>\n",
       "      <td>3333.819092</td>\n",
       "      <td>12.067660</td>\n",
       "      <td>3532.081496</td>\n",
       "      <td>81.985901</td>\n",
       "    </tr>\n",
       "    <tr>\n",
       "      <th>50522</th>\n",
       "      <td>31 12 2018 22:40</td>\n",
       "      <td>3455.282959</td>\n",
       "      <td>12.195660</td>\n",
       "      <td>3549.150371</td>\n",
       "      <td>82.210617</td>\n",
       "    </tr>\n",
       "    <tr>\n",
       "      <th>50523</th>\n",
       "      <td>31 12 2018 22:50</td>\n",
       "      <td>3429.021973</td>\n",
       "      <td>12.492510</td>\n",
       "      <td>3578.567804</td>\n",
       "      <td>82.111870</td>\n",
       "    </tr>\n",
       "    <tr>\n",
       "      <th>50524</th>\n",
       "      <td>31 12 2018 23:00</td>\n",
       "      <td>3514.269043</td>\n",
       "      <td>12.559170</td>\n",
       "      <td>3583.288363</td>\n",
       "      <td>80.495262</td>\n",
       "    </tr>\n",
       "    <tr>\n",
       "      <th>50525</th>\n",
       "      <td>31 12 2018 23:10</td>\n",
       "      <td>2963.980957</td>\n",
       "      <td>11.404030</td>\n",
       "      <td>3397.190793</td>\n",
       "      <td>80.502724</td>\n",
       "    </tr>\n",
       "    <tr>\n",
       "      <th>50526</th>\n",
       "      <td>31 12 2018 23:20</td>\n",
       "      <td>1684.353027</td>\n",
       "      <td>7.332648</td>\n",
       "      <td>1173.055771</td>\n",
       "      <td>84.062599</td>\n",
       "    </tr>\n",
       "    <tr>\n",
       "      <th>50527</th>\n",
       "      <td>31 12 2018 23:30</td>\n",
       "      <td>2201.106934</td>\n",
       "      <td>8.435358</td>\n",
       "      <td>1788.284755</td>\n",
       "      <td>84.742500</td>\n",
       "    </tr>\n",
       "    <tr>\n",
       "      <th>50528</th>\n",
       "      <td>31 12 2018 23:40</td>\n",
       "      <td>2515.694092</td>\n",
       "      <td>9.421366</td>\n",
       "      <td>2418.382503</td>\n",
       "      <td>84.297913</td>\n",
       "    </tr>\n",
       "    <tr>\n",
       "      <th>50529</th>\n",
       "      <td>31 12 2018 23:50</td>\n",
       "      <td>2820.466064</td>\n",
       "      <td>9.979332</td>\n",
       "      <td>2779.184096</td>\n",
       "      <td>82.274620</td>\n",
       "    </tr>\n",
       "  </tbody>\n",
       "</table>\n",
       "</div>"
      ],
      "text/plain": [
       "                   Date        Power  Wind_speed  Theoretical_power  \\\n",
       "50520  31 12 2018 22:20  2771.110107   10.154550        2884.512812   \n",
       "50521  31 12 2018 22:30  3333.819092   12.067660        3532.081496   \n",
       "50522  31 12 2018 22:40  3455.282959   12.195660        3549.150371   \n",
       "50523  31 12 2018 22:50  3429.021973   12.492510        3578.567804   \n",
       "50524  31 12 2018 23:00  3514.269043   12.559170        3583.288363   \n",
       "50525  31 12 2018 23:10  2963.980957   11.404030        3397.190793   \n",
       "50526  31 12 2018 23:20  1684.353027    7.332648        1173.055771   \n",
       "50527  31 12 2018 23:30  2201.106934    8.435358        1788.284755   \n",
       "50528  31 12 2018 23:40  2515.694092    9.421366        2418.382503   \n",
       "50529  31 12 2018 23:50  2820.466064    9.979332        2779.184096   \n",
       "\n",
       "       Wind_direction  \n",
       "50520       82.335197  \n",
       "50521       81.985901  \n",
       "50522       82.210617  \n",
       "50523       82.111870  \n",
       "50524       80.495262  \n",
       "50525       80.502724  \n",
       "50526       84.062599  \n",
       "50527       84.742500  \n",
       "50528       84.297913  \n",
       "50529       82.274620  "
      ]
     },
     "execution_count": 39,
     "metadata": {},
     "output_type": "execute_result"
    }
   ],
   "source": [
    "data[-10:]"
   ]
  },
  {
   "cell_type": "code",
   "execution_count": 23,
   "id": "whole-suspect",
   "metadata": {},
   "outputs": [
    {
     "data": {
      "image/png": "[encoded data removed]",
      "text/plain": [
       "<Figure size 864x864 with 4 Axes>"
      ]
     },
     "metadata": {},
     "output_type": "display_data"
    }
   ],
   "source": [
    "warnings.filterwarnings(action='once')\n",
    "f = plt.figure(figsize=(12,12))\n",
    "leg_pos = 'upper left'\n",
    "\n",
    "ax1 = f.add_subplot(221,projection='windrose')\n",
    "ax1.set_title('Year 2013')\n",
    "anno=2013\n",
    "\n",
    "ax1.contourf(df_clean.loc[df_clean['Year']==anno,'Wind_direction'], df_clean.loc[df_clean['Year']==anno,'Wind_speed'], \n",
    "             bins = np.arange(2, 12, 2))\n",
    "ax1.contour(df_clean.loc[df_clean['Year']==anno,'Wind_direction'], df_clean.loc[df_clean['Year']==anno,'Wind_speed'],\n",
    "            colors='black',bins = np.arange(2, 12, 2))\n",
    "ax1.set_legend(loc=leg_pos)\n",
    "\n",
    "ax2 = f.add_subplot(222,projection='windrose')\n",
    "ax2.set_title('Year 2014')\n",
    "anno=2014\n",
    "\n",
    "ax2.contourf(df_clean.loc[df_clean['Year']==anno,'Wind_direction'], df_clean.loc[df_clean['Year']==anno,'Wind_speed'], \n",
    "             bins = np.arange(2, 12, 2))\n",
    "ax2.contour(df_clean.loc[df_clean['Year']==anno,'Wind_direction'], df_clean.loc[df_clean['Year']==anno,'Wind_speed'],\n",
    "            colors='black',bins = np.arange(2, 12, 2))\n",
    "ax2.set_legend(loc=leg_pos)\n",
    "\n",
    "ax3 = f.add_subplot(223,projection='windrose')\n",
    "ax3.set_title('Year 2015')\n",
    "anno=2015\n",
    "\n",
    "ax3.contourf(df_clean.loc[df_clean['Year']==anno,'Wind_direction'], df_clean.loc[df_clean['Year']==anno,'Wind_speed'], \n",
    "             bins = np.arange(2, 12, 2))\n",
    "ax3.contour(df_clean.loc[df_clean['Year']==anno,'Wind_direction'], df_clean.loc[df_clean['Year']==anno,'Wind_speed'],\n",
    "            colors='black',bins = np.arange(2, 12, 2))\n",
    "ax3.set_legend(loc=leg_pos)\n",
    "\n",
    "ax4 = f.add_subplot(224,projection='windrose')\n",
    "ax4.set_title('Year 2016')\n",
    "anno=2016\n",
    "\n",
    "ax4.contourf(df_clean.loc[df_clean['Year']==anno,'Wind_direction'], df_clean.loc[df_clean['Year']==anno,'Wind_speed'], \n",
    "             bins = np.arange(2, 12, 2))\n",
    "ax4.contour(df_clean.loc[df_clean['Year']==anno,'Wind_direction'], df_clean.loc[df_clean['Year']==anno,'Wind_speed'],\n",
    "            colors='black',bins = np.arange(2, 12, 2))\n",
    "ax4.set_legend(loc=leg_pos)\n",
    "\n",
    "plt.show()"
   ]
  },
  {
   "cell_type": "markdown",
   "id": "premium-topic",
   "metadata": {},
   "source": [
    "            lets create our training function that all the timeseries will use\n",
    "            "
   ]
  },
  {
   "cell_type": "code",
   "execution_count": 24,
   "id": "dietary-spare",
   "metadata": {},
   "outputs": [],
   "source": [
    "def trainer(Train,Validation,data):\n",
    "    scaler = MinMaxScaler()\n",
    "    scaler.fit(Train)    \n",
    "    \n",
    "    train = scaler.transform(Train)\n",
    "    validation =scaler.transform(Validation)\n",
    "\n",
    "    #lets define inputs params\n",
    "    n_input = 6\n",
    "    n_features = 1\n",
    "    train_generator = TimeseriesGenerator(train, train, length=n_input, batch_size=32)\n",
    "    validation_generator = TimeseriesGenerator(validation, validation, length=n_input, batch_size=32)\n",
    "\n",
    "    model = Sequential()\n",
    "\n",
    "    model.add(LSTM(units = 50,activation = 'relu', return_sequences = True,input_shape=(n_input, n_features)))\n",
    "    model.add(Dropout(0.2))\n",
    "\n",
    "    model.add(LSTM(units = 60,activation = 'relu', return_sequences = True))\n",
    "    model.add(Dropout(0.3))\n",
    "\n",
    "    model.add(LSTM(units = 80,activation = 'relu', return_sequences = True))\n",
    "    model.add(Dropout(0.4))\n",
    "\n",
    "    model.add(LSTM(units = 120,activation = 'relu'))\n",
    "    model.add(Dropout(0.5))\n",
    "\n",
    "    model.add(Dense(1))\n",
    "\n",
    "\n",
    "    model.compile(optimizer='adam', loss='mse')\n",
    "\n",
    "    EARLY_STOP= EarlyStopping(monitor='val_loss', min_delta=0, patience=5)\n",
    "\n",
    "    history = model.fit(train_generator,epochs=1000,\n",
    "                              validation_data =validation_generator,\n",
    "                              callbacks= [EARLY_STOP],\n",
    "                              verbose=1)\n",
    "    \n",
    "    test = DataFrame(data['Power'][0:200])\n",
    "    \n",
    "    pred_list = []\n",
    "    batch = train[-n_input:].reshape((1, n_input, n_features))\n",
    "    for i in range(n_input):   \n",
    "        pred_list.append(model.predict(batch)[0]) \n",
    "        batch = np.append(batch[:,1:,:],[[pred_list[i]]],axis=1)\n",
    "\n",
    "    add_dates = [test.index[-1] + DateOffset(hours=x) for x in range(0,7) ]\n",
    "    future_dates = pd.DataFrame(index=add_dates[1:],columns=test.columns)\n",
    "\n",
    "    df_predict = pd.DataFrame(scaler.inverse_transform(pred_list),\n",
    "                              index=future_dates[-n_input:].index, columns=['Prediction'])\n",
    "    df_proj = pd.concat([test,df_predict], axis=1)\n",
    "\n",
    "\n",
    "    plot_data = [\n",
    "        go.Scatter(\n",
    "            x=df_proj.index,\n",
    "            y=df_proj['Power'],\n",
    "            name='actual'\n",
    "        ),\n",
    "        go.Scatter(\n",
    "            x=df_proj.index,\n",
    "            y=df_proj['Prediction'],\n",
    "            name='prediction'\n",
    "        )\n",
    "    ]\n",
    "    plot_layout = go.Layout(\n",
    "            title='Power'\n",
    "        )\n",
    "    fig = go.Figure(data=plot_data, layout=plot_layout)\n",
    "    graph= pyoff.iplot(fig)\n",
    "\n",
    "    return(model, history,graph,scaler,df_proj)"
   ]
  },
  {
   "cell_type": "code",
   "execution_count": 25,
   "id": "sunset-likelihood",
   "metadata": {},
   "outputs": [
    {
     "data": {
      "text/html": [
       "<div>\n",
       "<style scoped>\n",
       "    .dataframe tbody tr th:only-of-type {\n",
       "        vertical-align: middle;\n",
       "    }\n",
       "\n",
       "    .dataframe tbody tr th {\n",
       "        vertical-align: top;\n",
       "    }\n",
       "\n",
       "    .dataframe thead th {\n",
       "        text-align: right;\n",
       "    }\n",
       "</style>\n",
       "<table border=\"1\" class=\"dataframe\">\n",
       "  <thead>\n",
       "    <tr style=\"text-align: right;\">\n",
       "      <th></th>\n",
       "      <th>Power</th>\n",
       "    </tr>\n",
       "    <tr>\n",
       "      <th>Date</th>\n",
       "      <th></th>\n",
       "    </tr>\n",
       "  </thead>\n",
       "  <tbody>\n",
       "    <tr>\n",
       "      <th>2018-11-14 17:00:00</th>\n",
       "      <td>1607.254517</td>\n",
       "    </tr>\n",
       "    <tr>\n",
       "      <th>2018-11-14 18:00:00</th>\n",
       "      <td>1198.862671</td>\n",
       "    </tr>\n",
       "    <tr>\n",
       "      <th>2018-11-14 19:00:00</th>\n",
       "      <td>781.769653</td>\n",
       "    </tr>\n",
       "    <tr>\n",
       "      <th>2018-11-14 20:00:00</th>\n",
       "      <td>890.272705</td>\n",
       "    </tr>\n",
       "    <tr>\n",
       "      <th>2018-11-14 21:00:00</th>\n",
       "      <td>870.432159</td>\n",
       "    </tr>\n",
       "    <tr>\n",
       "      <th>...</th>\n",
       "      <td>...</td>\n",
       "    </tr>\n",
       "    <tr>\n",
       "      <th>2018-12-31 19:00:00</th>\n",
       "      <td>934.974701</td>\n",
       "    </tr>\n",
       "    <tr>\n",
       "      <th>2018-12-31 20:00:00</th>\n",
       "      <td>1571.804993</td>\n",
       "    </tr>\n",
       "    <tr>\n",
       "      <th>2018-12-31 21:00:00</th>\n",
       "      <td>2116.489441</td>\n",
       "    </tr>\n",
       "    <tr>\n",
       "      <th>2018-12-31 22:00:00</th>\n",
       "      <td>3176.856079</td>\n",
       "    </tr>\n",
       "    <tr>\n",
       "      <th>2018-12-31 23:00:00</th>\n",
       "      <td>2668.080078</td>\n",
       "    </tr>\n",
       "  </tbody>\n",
       "</table>\n",
       "<p>865 rows × 1 columns</p>\n",
       "</div>"
      ],
      "text/plain": [
       "                           Power\n",
       "Date                            \n",
       "2018-11-14 17:00:00  1607.254517\n",
       "2018-11-14 18:00:00  1198.862671\n",
       "2018-11-14 19:00:00   781.769653\n",
       "2018-11-14 20:00:00   890.272705\n",
       "2018-11-14 21:00:00   870.432159\n",
       "...                          ...\n",
       "2018-12-31 19:00:00   934.974701\n",
       "2018-12-31 20:00:00  1571.804993\n",
       "2018-12-31 21:00:00  2116.489441\n",
       "2018-12-31 22:00:00  3176.856079\n",
       "2018-12-31 23:00:00  2668.080078\n",
       "\n",
       "[865 rows x 1 columns]"
      ]
     },
     "execution_count": 25,
     "metadata": {},
     "output_type": "execute_result"
    }
   ],
   "source": [
    "ts_test"
   ]
  },
  {
   "cell_type": "code",
   "execution_count": 26,
   "id": "demographic-duncan",
   "metadata": {
    "scrolled": true
   },
   "outputs": [
    {
     "name": "stdout",
     "output_type": "stream",
     "text": [
      "Epoch 1/1000\n",
      "173/173 [==============================] - 5s 29ms/step - loss: 0.1038 - val_loss: 0.0635\n",
      "Epoch 2/1000\n",
      "173/173 [==============================] - 4s 23ms/step - loss: 0.0676 - val_loss: 0.0526\n",
      "Epoch 3/1000\n",
      "173/173 [==============================] - 4s 21ms/step - loss: 0.0597 - val_loss: 0.0444\n",
      "Epoch 4/1000\n",
      "173/173 [==============================] - 3s 18ms/step - loss: 0.0500 - val_loss: 0.0376\n",
      "Epoch 5/1000\n",
      "173/173 [==============================] - 3s 18ms/step - loss: 0.0440 - val_loss: 0.0288\n",
      "Epoch 6/1000\n",
      "173/173 [==============================] - 3s 18ms/step - loss: 0.0391 - val_loss: 0.0294\n",
      "Epoch 7/1000\n",
      "173/173 [==============================] - 3s 20ms/step - loss: 0.0365 - val_loss: 0.0268\n",
      "Epoch 8/1000\n",
      "173/173 [==============================] - 4s 21ms/step - loss: 0.0357 - val_loss: 0.0251\n",
      "Epoch 9/1000\n",
      "173/173 [==============================] - 4s 22ms/step - loss: 0.0337 - val_loss: 0.0234\n",
      "Epoch 10/1000\n",
      "173/173 [==============================] - 4s 23ms/step - loss: 0.0324 - val_loss: 0.0264\n",
      "Epoch 11/1000\n",
      "173/173 [==============================] - 4s 21ms/step - loss: 0.0331 - val_loss: 0.0237\n",
      "Epoch 12/1000\n",
      "173/173 [==============================] - 4s 20ms/step - loss: 0.0318 - val_loss: 0.0241\n",
      "Epoch 13/1000\n",
      "173/173 [==============================] - 3s 18ms/step - loss: 0.0309 - val_loss: 0.0248\n",
      "Epoch 14/1000\n",
      "173/173 [==============================] - 3s 20ms/step - loss: 0.0304 - val_loss: 0.0239\n"
     ]
    },
    {
     "data": {
      "application/vnd.plotly.v1+json": {
       "config": {
        "linkText": "Export to plot.ly",
        "plotlyServerURL": "https://plot.ly",
        "showLink": false
       },
       "data": [
        {
         "name": "actual",
         "type": "scatter",
         "x": [
          "2018-11-14T17:00:00",
          "2018-11-14T18:00:00",
          "2018-11-14T19:00:00",
          "2018-11-14T20:00:00",
          "2018-11-14T21:00:00",
          "2018-11-14T22:00:00",
          "2018-11-14T23:00:00",
          "2018-11-15T00:00:00",
          "2018-11-15T01:00:00",
          "2018-11-15T02:00:00",
          "2018-11-15T03:00:00",
          "2018-11-15T04:00:00",
          "2018-11-15T06:00:00",
          "2018-11-15T07:00:00",
          "2018-11-15T09:00:00",
          "2018-11-15T10:00:00",
          "2018-11-15T13:00:00",
          "2018-11-15T14:00:00",
          "2018-11-15T15:00:00",
          "2018-11-15T16:00:00",
          "2018-11-15T17:00:00",
          "2018-11-15T18:00:00",
          "2018-11-15T19:00:00",
          "2018-11-15T20:00:00",
          "2018-11-15T21:00:00",
          "2018-11-15T22:00:00",
          "2018-11-15T23:00:00",
          "2018-11-16T00:00:00",
          "2018-11-16T01:00:00",
          "2018-11-16T02:00:00",
          "2018-11-16T03:00:00",
          "2018-11-16T04:00:00",
          "2018-11-16T05:00:00",
          "2018-11-16T06:00:00",
          "2018-11-16T07:00:00",
          "2018-11-16T08:00:00",
          "2018-11-16T09:00:00",
          "2018-11-16T10:00:00",
          "2018-11-16T11:00:00",
          "2018-11-16T12:00:00",
          "2018-11-16T13:00:00",
          "2018-11-16T14:00:00",
          "2018-11-16T15:00:00",
          "2018-11-16T16:00:00",
          "2018-11-16T17:00:00",
          "2018-11-16T18:00:00",
          "2018-11-16T19:00:00",
          "2018-11-16T20:00:00",
          "2018-11-16T21:00:00",
          "2018-11-16T22:00:00",
          "2018-11-16T23:00:00",
          "2018-11-17T00:00:00",
          "2018-11-17T01:00:00",
          "2018-11-17T02:00:00",
          "2018-11-17T03:00:00",
          "2018-11-17T04:00:00",
          "2018-11-17T05:00:00",
          "2018-11-17T06:00:00",
          "2018-11-17T07:00:00",
          "2018-11-17T08:00:00",
          "2018-11-17T09:00:00",
          "2018-11-17T10:00:00",
          "2018-11-17T11:00:00",
          "2018-11-17T12:00:00",
          "2018-11-17T13:00:00",
          "2018-11-17T14:00:00",
          "2018-11-17T15:00:00",
          "2018-11-17T16:00:00",
          "2018-11-17T17:00:00",
          "2018-11-17T18:00:00",
          "2018-11-17T19:00:00",
          "2018-11-17T20:00:00",
          "2018-11-17T21:00:00",
          "2018-11-17T22:00:00",
          "2018-11-17T23:00:00",
          "2018-11-18T00:00:00",
          "2018-11-18T01:00:00",
          "2018-11-18T02:00:00",
          "2018-11-18T03:00:00",
          "2018-11-18T04:00:00",
          "2018-11-18T05:00:00",
          "2018-11-18T06:00:00",
          "2018-11-18T07:00:00",
          "2018-11-18T08:00:00",
          "2018-11-18T09:00:00",
          "2018-11-18T10:00:00",
          "2018-11-18T11:00:00",
          "2018-11-18T12:00:00",
          "2018-11-18T13:00:00",
          "2018-11-18T14:00:00",
          "2018-11-18T15:00:00",
          "2018-11-18T16:00:00",
          "2018-11-18T17:00:00",
          "2018-11-18T18:00:00",
          "2018-11-18T19:00:00",
          "2018-11-18T20:00:00",
          "2018-11-18T21:00:00",
          "2018-11-18T22:00:00",
          "2018-11-18T23:00:00",
          "2018-11-19T00:00:00",
          "2018-11-19T01:00:00",
          "2018-11-19T02:00:00",
          "2018-11-19T03:00:00",
          "2018-11-19T04:00:00",
          "2018-11-19T05:00:00",
          "2018-11-19T06:00:00",
          "2018-11-19T07:00:00",
          "2018-11-19T08:00:00",
          "2018-11-19T09:00:00",
          "2018-11-19T10:00:00",
          "2018-11-19T11:00:00",
          "2018-11-19T12:00:00",
          "2018-11-19T13:00:00",
          "2018-11-19T14:00:00",
          "2018-11-19T15:00:00",
          "2018-11-19T16:00:00",
          "2018-11-19T17:00:00",
          "2018-11-19T18:00:00",
          "2018-11-19T19:00:00",
          "2018-11-19T20:00:00",
          "2018-11-19T21:00:00",
          "2018-11-19T22:00:00",
          "2018-11-19T23:00:00",
          "2018-11-20T00:00:00",
          "2018-11-20T01:00:00",
          "2018-11-20T02:00:00",
          "2018-11-20T03:00:00",
          "2018-11-20T04:00:00",
          "2018-11-20T05:00:00",
          "2018-11-20T06:00:00",
          "2018-11-20T07:00:00",
          "2018-11-20T08:00:00",
          "2018-11-20T09:00:00",
          "2018-11-20T10:00:00",
          "2018-11-20T11:00:00",
          "2018-11-20T12:00:00",
          "2018-11-20T13:00:00",
          "2018-11-20T14:00:00",
          "2018-11-20T15:00:00",
          "2018-11-20T16:00:00",
          "2018-11-20T17:00:00",
          "2018-11-20T18:00:00",
          "2018-11-20T19:00:00",
          "2018-11-20T20:00:00",
          "2018-11-20T21:00:00",
          "2018-11-20T22:00:00",
          "2018-11-20T23:00:00",
          "2018-11-21T00:00:00",
          "2018-11-21T01:00:00",
          "2018-11-21T02:00:00",
          "2018-11-21T03:00:00",
          "2018-11-21T04:00:00",
          "2018-11-21T05:00:00",
          "2018-11-21T06:00:00",
          "2018-11-21T07:00:00",
          "2018-11-21T08:00:00",
          "2018-11-21T09:00:00",
          "2018-11-21T10:00:00",
          "2018-11-21T11:00:00",
          "2018-11-21T12:00:00",
          "2018-11-21T13:00:00",
          "2018-11-21T14:00:00",
          "2018-11-21T15:00:00",
          "2018-11-21T16:00:00",
          "2018-11-21T17:00:00",
          "2018-11-21T18:00:00",
          "2018-11-21T19:00:00",
          "2018-11-21T20:00:00",
          "2018-11-21T21:00:00",
          "2018-11-21T22:00:00",
          "2018-11-21T23:00:00",
          "2018-11-22T00:00:00",
          "2018-11-22T01:00:00",
          "2018-11-22T02:00:00",
          "2018-11-22T08:00:00",
          "2018-11-22T09:00:00",
          "2018-11-22T10:00:00",
          "2018-11-22T11:00:00",
          "2018-11-22T12:00:00",
          "2018-11-22T13:00:00",
          "2018-11-22T14:00:00",
          "2018-11-22T15:00:00",
          "2018-11-22T16:00:00",
          "2018-11-22T17:00:00",
          "2018-11-22T18:00:00",
          "2018-11-22T19:00:00",
          "2018-11-22T20:00:00",
          "2018-11-22T21:00:00",
          "2018-11-22T22:00:00",
          "2018-11-22T23:00:00",
          "2018-11-23T00:00:00",
          "2018-11-23T01:00:00",
          "2018-11-23T02:00:00",
          "2018-11-23T03:00:00",
          "2018-11-23T04:00:00",
          "2018-11-23T05:00:00",
          "2018-11-23T06:00:00",
          "2018-11-23T07:00:00",
          "2018-11-23T08:00:00",
          "2018-11-23T09:00:00",
          "2018-11-23T10:00:00",
          "2018-11-23T11:00:00",
          "2018-11-23T12:00:00",
          "2018-11-23T13:00:00",
          "2018-11-23T14:00:00",
          "2018-11-23T15:00:00"
         ],
         "y": [
          1607.25451660156,
          1198.8626708984361,
          781.769653320312,
          890.2727050781245,
          870.432159423828,
          721.9172363281245,
          321.00581359863247,
          301.43200683593705,
          393.18464660644497,
          157.3146972656245,
          31.898114204406703,
          141.630004882812,
          7.31867694854736,
          66.1610031127929,
          30.87371361255643,
          35.0314598083496,
          235.123954772949,
          333.22140502929653,
          699.3512878417965,
          1699.27697753906,
          2958.3804931640598,
          2760.166015624995,
          2232.79248046875,
          2537.59204101562,
          2307.388916015625,
          2938.167968749995,
          1802.57495117187,
          2585.43090820312,
          3515.679443359375,
          3484.65698242187,
          3193.2979736328098,
          2589.0865478515598,
          2701.7320556640598,
          2412.1400146484348,
          3300.417968749995,
          2612.86499023437,
          2187.5364990234348,
          2066.0660400390598,
          2480.197998046875,
          2735.753906249995,
          3231.31494140625,
          3487.915039062495,
          2816.156494140625,
          2196.697509765625,
          1846.21655273437,
          1365.6384887695299,
          1221.4099731445299,
          605.175598144531,
          801.1252136230464,
          849.5744628906245,
          1124.4400024413999,
          1868.588012695305,
          1192.739013671875,
          2042.5239868163999,
          2152.52954101562,
          2806.6319580078098,
          2810.9525146484348,
          2058.210998535155,
          2499.51391601562,
          1693.39300537109,
          1153.178985595695,
          907.0887451171835,
          790.8952636718745,
          1018.778991699215,
          1186.238952636715,
          1003.677520751949,
          1699.26800537109,
          1125.8989868164049,
          2338.73046875,
          2001.2210083007799,
          1055.65097045898,
          1029.861511230465,
          832.0144653320305,
          819.6534729003905,
          283.71005249023403,
          380.035598754882,
          654.8998718261715,
          1109.52697753906,
          1049.8860473632749,
          1668.51898193359,
          2091.11645507812,
          2136.242919921875,
          1665.36901855468,
          891.646545410156,
          373.2046051025385,
          248.890304565429,
          711.383911132812,
          283.8821563720695,
          388.0200042724605,
          1103.65551757812,
          1057.870483398435,
          230.642601013183,
          106.18144989013649,
          854.3941345214839,
          2325.07806396484,
          3591.40893554687,
          3476.1719970703098,
          3462.187011718745,
          3461.6175537109348,
          3461.3585205078098,
          3461.2904052734348,
          3461.571533203125,
          3462.8394775390598,
          3463.4053955078098,
          3462.3929443359348,
          3461.74047851562,
          3462.538085937495,
          3462.7110595703098,
          3602.4005126953098,
          3595.382568359375,
          3425.9400634765598,
          1901.548950195305,
          2445.94604492187,
          1591.486999511715,
          1846.436523437495,
          568.761047363281,
          2092.9415283203098,
          3524.730468749995,
          2633.4959716796848,
          560.2401428222655,
          738.3533630371089,
          569.280639648437,
          1124.643554687495,
          577.3589477539055,
          347.88964843749955,
          434.426651000976,
          340.3699035644525,
          381.12744140624955,
          600.0970153808589,
          909.5285034179685,
          1131.8345336913999,
          1054.330780029294,
          745.037170410156,
          867.3464050292965,
          860.9923706054685,
          1078.592468261715,
          1060.53900146484,
          3009.4630126953098,
          2816.30200195312,
          2308.22998046875,
          2058.40753173828,
          2586.5860595703098,
          2510.26342773437,
          2584.5355224609348,
          2251.272949218745,
          2517.382080078125,
          2660.781494140625,
          1893.7639770507799,
          1701.562499999995,
          1272.80902099609,
          1016.25549316406,
          444.7013092041015,
          972.1748352050755,
          1031.8480224609375,
          485.8911437988275,
          45.9748992919921,
          277.51095581054653,
          103.139583587646,
          724.947357177734,
          595.7182312011715,
          545.931335449218,
          870.2681579589839,
          1152.87902832031,
          1070.306640625,
          600.199340820312,
          449.2643432617185,
          498.2602539062495,
          849.3150329589839,
          634.219512939453,
          664.0259704589839,
          577.416625976562,
          482.19465637206997,
          146.5728988647455,
          77.4769897460937,
          15.3534603118896,
          564.916549682617,
          589.8737487792965,
          1597.05895996093,
          3007.2239990234348,
          3129.0775146484348,
          3099.2559814453098,
          3245.7364501953098,
          3390.4525146484348,
          3069.21044921875,
          3375.916503906245,
          2540.418945312495,
          3215.135986328125,
          3356.5455322265598,
          3239.1424560546848,
          3305.69140625,
          3182.2554931640598,
          2353.7469482421848,
          2679.6259765625,
          2563.0909423828098,
          2368.0445556640598,
          1724.3779907226549,
          1548.886474609375,
          1608.515991210935,
          637.7998046875,
          478.9440917968745,
          null,
          null,
          null,
          null,
          null,
          null
         ]
        },
        {
         "name": "prediction",
         "type": "scatter",
         "x": [
          "2018-11-14T17:00:00",
          "2018-11-14T18:00:00",
          "2018-11-14T19:00:00",
          "2018-11-14T20:00:00",
          "2018-11-14T21:00:00",
          "2018-11-14T22:00:00",
          "2018-11-14T23:00:00",
          "2018-11-15T00:00:00",
          "2018-11-15T01:00:00",
          "2018-11-15T02:00:00",
          "2018-11-15T03:00:00",
          "2018-11-15T04:00:00",
          "2018-11-15T06:00:00",
          "2018-11-15T07:00:00",
          "2018-11-15T09:00:00",
          "2018-11-15T10:00:00",
          "2018-11-15T13:00:00",
          "2018-11-15T14:00:00",
          "2018-11-15T15:00:00",
          "2018-11-15T16:00:00",
          "2018-11-15T17:00:00",
          "2018-11-15T18:00:00",
          "2018-11-15T19:00:00",
          "2018-11-15T20:00:00",
          "2018-11-15T21:00:00",
          "2018-11-15T22:00:00",
          "2018-11-15T23:00:00",
          "2018-11-16T00:00:00",
          "2018-11-16T01:00:00",
          "2018-11-16T02:00:00",
          "2018-11-16T03:00:00",
          "2018-11-16T04:00:00",
          "2018-11-16T05:00:00",
          "2018-11-16T06:00:00",
          "2018-11-16T07:00:00",
          "2018-11-16T08:00:00",
          "2018-11-16T09:00:00",
          "2018-11-16T10:00:00",
          "2018-11-16T11:00:00",
          "2018-11-16T12:00:00",
          "2018-11-16T13:00:00",
          "2018-11-16T14:00:00",
          "2018-11-16T15:00:00",
          "2018-11-16T16:00:00",
          "2018-11-16T17:00:00",
          "2018-11-16T18:00:00",
          "2018-11-16T19:00:00",
          "2018-11-16T20:00:00",
          "2018-11-16T21:00:00",
          "2018-11-16T22:00:00",
          "2018-11-16T23:00:00",
          "2018-11-17T00:00:00",
          "2018-11-17T01:00:00",
          "2018-11-17T02:00:00",
          "2018-11-17T03:00:00",
          "2018-11-17T04:00:00",
          "2018-11-17T05:00:00",
          "2018-11-17T06:00:00",
          "2018-11-17T07:00:00",
          "2018-11-17T08:00:00",
          "2018-11-17T09:00:00",
          "2018-11-17T10:00:00",
          "2018-11-17T11:00:00",
          "2018-11-17T12:00:00",
          "2018-11-17T13:00:00",
          "2018-11-17T14:00:00",
          "2018-11-17T15:00:00",
          "2018-11-17T16:00:00",
          "2018-11-17T17:00:00",
          "2018-11-17T18:00:00",
          "2018-11-17T19:00:00",
          "2018-11-17T20:00:00",
          "2018-11-17T21:00:00",
          "2018-11-17T22:00:00",
          "2018-11-17T23:00:00",
          "2018-11-18T00:00:00",
          "2018-11-18T01:00:00",
          "2018-11-18T02:00:00",
          "2018-11-18T03:00:00",
          "2018-11-18T04:00:00",
          "2018-11-18T05:00:00",
          "2018-11-18T06:00:00",
          "2018-11-18T07:00:00",
          "2018-11-18T08:00:00",
          "2018-11-18T09:00:00",
          "2018-11-18T10:00:00",
          "2018-11-18T11:00:00",
          "2018-11-18T12:00:00",
          "2018-11-18T13:00:00",
          "2018-11-18T14:00:00",
          "2018-11-18T15:00:00",
          "2018-11-18T16:00:00",
          "2018-11-18T17:00:00",
          "2018-11-18T18:00:00",
          "2018-11-18T19:00:00",
          "2018-11-18T20:00:00",
          "2018-11-18T21:00:00",
          "2018-11-18T22:00:00",
          "2018-11-18T23:00:00",
          "2018-11-19T00:00:00",
          "2018-11-19T01:00:00",
          "2018-11-19T02:00:00",
          "2018-11-19T03:00:00",
          "2018-11-19T04:00:00",
          "2018-11-19T05:00:00",
          "2018-11-19T06:00:00",
          "2018-11-19T07:00:00",
          "2018-11-19T08:00:00",
          "2018-11-19T09:00:00",
          "2018-11-19T10:00:00",
          "2018-11-19T11:00:00",
          "2018-11-19T12:00:00",
          "2018-11-19T13:00:00",
          "2018-11-19T14:00:00",
          "2018-11-19T15:00:00",
          "2018-11-19T16:00:00",
          "2018-11-19T17:00:00",
          "2018-11-19T18:00:00",
          "2018-11-19T19:00:00",
          "2018-11-19T20:00:00",
          "2018-11-19T21:00:00",
          "2018-11-19T22:00:00",
          "2018-11-19T23:00:00",
          "2018-11-20T00:00:00",
          "2018-11-20T01:00:00",
          "2018-11-20T02:00:00",
          "2018-11-20T03:00:00",
          "2018-11-20T04:00:00",
          "2018-11-20T05:00:00",
          "2018-11-20T06:00:00",
          "2018-11-20T07:00:00",
          "2018-11-20T08:00:00",
          "2018-11-20T09:00:00",
          "2018-11-20T10:00:00",
          "2018-11-20T11:00:00",
          "2018-11-20T12:00:00",
          "2018-11-20T13:00:00",
          "2018-11-20T14:00:00",
          "2018-11-20T15:00:00",
          "2018-11-20T16:00:00",
          "2018-11-20T17:00:00",
          "2018-11-20T18:00:00",
          "2018-11-20T19:00:00",
          "2018-11-20T20:00:00",
          "2018-11-20T21:00:00",
          "2018-11-20T22:00:00",
          "2018-11-20T23:00:00",
          "2018-11-21T00:00:00",
          "2018-11-21T01:00:00",
          "2018-11-21T02:00:00",
          "2018-11-21T03:00:00",
          "2018-11-21T04:00:00",
          "2018-11-21T05:00:00",
          "2018-11-21T06:00:00",
          "2018-11-21T07:00:00",
          "2018-11-21T08:00:00",
          "2018-11-21T09:00:00",
          "2018-11-21T10:00:00",
          "2018-11-21T11:00:00",
          "2018-11-21T12:00:00",
          "2018-11-21T13:00:00",
          "2018-11-21T14:00:00",
          "2018-11-21T15:00:00",
          "2018-11-21T16:00:00",
          "2018-11-21T17:00:00",
          "2018-11-21T18:00:00",
          "2018-11-21T19:00:00",
          "2018-11-21T20:00:00",
          "2018-11-21T21:00:00",
          "2018-11-21T22:00:00",
          "2018-11-21T23:00:00",
          "2018-11-22T00:00:00",
          "2018-11-22T01:00:00",
          "2018-11-22T02:00:00",
          "2018-11-22T08:00:00",
          "2018-11-22T09:00:00",
          "2018-11-22T10:00:00",
          "2018-11-22T11:00:00",
          "2018-11-22T12:00:00",
          "2018-11-22T13:00:00",
          "2018-11-22T14:00:00",
          "2018-11-22T15:00:00",
          "2018-11-22T16:00:00",
          "2018-11-22T17:00:00",
          "2018-11-22T18:00:00",
          "2018-11-22T19:00:00",
          "2018-11-22T20:00:00",
          "2018-11-22T21:00:00",
          "2018-11-22T22:00:00",
          "2018-11-22T23:00:00",
          "2018-11-23T00:00:00",
          "2018-11-23T01:00:00",
          "2018-11-23T02:00:00",
          "2018-11-23T03:00:00",
          "2018-11-23T04:00:00",
          "2018-11-23T05:00:00",
          "2018-11-23T06:00:00",
          "2018-11-23T07:00:00",
          "2018-11-23T08:00:00",
          "2018-11-23T09:00:00",
          "2018-11-23T10:00:00",
          "2018-11-23T11:00:00",
          "2018-11-23T12:00:00",
          "2018-11-23T13:00:00",
          "2018-11-23T14:00:00",
          "2018-11-23T15:00:00"
         ],
         "y": [
          null,
          null,
          null,
          null,
          null,
          null,
          null,
          null,
          null,
          null,
          null,
          null,
          null,
          null,
          null,
          null,
          null,
          null,
          null,
          null,
          null,
          null,
          null,
          null,
          null,
          null,
          null,
          null,
          null,
          null,
          null,
          null,
          null,
          null,
          null,
          null,
          null,
          null,
          null,
          null,
          null,
          null,
          null,
          null,
          null,
          null,
          null,
          null,
          null,
          null,
          null,
          null,
          null,
          null,
          null,
          null,
          null,
          null,
          null,
          null,
          null,
          null,
          null,
          null,
          null,
          null,
          null,
          null,
          null,
          null,
          null,
          null,
          null,
          null,
          null,
          null,
          null,
          null,
          null,
          null,
          null,
          null,
          null,
          null,
          null,
          null,
          null,
          null,
          null,
          null,
          null,
          null,
          null,
          null,
          null,
          null,
          null,
          null,
          null,
          null,
          null,
          null,
          null,
          null,
          null,
          null,
          null,
          null,
          null,
          null,
          null,
          null,
          null,
          null,
          null,
          null,
          null,
          null,
          null,
          null,
          null,
          null,
          null,
          null,
          null,
          null,
          null,
          null,
          null,
          null,
          null,
          null,
          null,
          null,
          null,
          null,
          null,
          null,
          null,
          null,
          null,
          null,
          null,
          null,
          null,
          null,
          null,
          null,
          null,
          null,
          null,
          null,
          null,
          null,
          null,
          null,
          null,
          null,
          null,
          null,
          null,
          null,
          null,
          null,
          null,
          null,
          null,
          null,
          null,
          null,
          null,
          null,
          null,
          null,
          null,
          null,
          null,
          null,
          null,
          null,
          null,
          null,
          null,
          null,
          null,
          null,
          null,
          null,
          null,
          null,
          null,
          null,
          null,
          null,
          null,
          null,
          null,
          null,
          null,
          null,
          2777.6361267689886,
          2686.2001457616548,
          2712.8195705287562,
          2743.841449362513,
          2762.145700347981,
          2766.5537391046114
         ]
        }
       ],
       "layout": {
        "template": {
         "data": {
          "bar": [
           {
            "error_x": {
             "color": "#2a3f5f"
            },
            "error_y": {
             "color": "#2a3f5f"
            },
            "marker": {
             "line": {
              "color": "#E5ECF6",
              "width": 0.5
             },
             "pattern": {
              "fillmode": "overlay",
              "size": 10,
              "solidity": 0.2
             }
            },
            "type": "bar"
           }
          ],
          "barpolar": [
           {
            "marker": {
             "line": {
              "color": "#E5ECF6",
              "width": 0.5
             },
             "pattern": {
              "fillmode": "overlay",
              "size": 10,
              "solidity": 0.2
             }
            },
            "type": "barpolar"
           }
          ],
          "carpet": [
           {
            "aaxis": {
             "endlinecolor": "#2a3f5f",
             "gridcolor": "white",
             "linecolor": "white",
             "minorgridcolor": "white",
             "startlinecolor": "#2a3f5f"
            },
            "baxis": {
             "endlinecolor": "#2a3f5f",
             "gridcolor": "white",
             "linecolor": "white",
             "minorgridcolor": "white",
             "startlinecolor": "#2a3f5f"
            },
            "type": "carpet"
           }
          ],
          "choropleth": [
           {
            "colorbar": {
             "outlinewidth": 0,
             "ticks": ""
            },
            "type": "choropleth"
           }
          ],
          "contour": [
           {
            "colorbar": {
             "outlinewidth": 0,
             "ticks": ""
            },
            "colorscale": [
             [
              0,
              "#0d0887"
             ],
             [
              0.1111111111111111,
              "#46039f"
             ],
             [
              0.2222222222222222,
              "#7201a8"
             ],
             [
              0.3333333333333333,
              "#9c179e"
             ],
             [
              0.4444444444444444,
              "#bd3786"
             ],
             [
              0.5555555555555556,
              "#d8576b"
             ],
             [
              0.6666666666666666,
              "#ed7953"
             ],
             [
              0.7777777777777778,
              "#fb9f3a"
             ],
             [
              0.8888888888888888,
              "#fdca26"
             ],
             [
              1,
              "#f0f921"
             ]
            ],
            "type": "contour"
           }
          ],
          "contourcarpet": [
           {
            "colorbar": {
             "outlinewidth": 0,
             "ticks": ""
            },
            "type": "contourcarpet"
           }
          ],
          "heatmap": [
           {
            "colorbar": {
             "outlinewidth": 0,
             "ticks": ""
            },
            "colorscale": [
             [
              0,
              "#0d0887"
             ],
             [
              0.1111111111111111,
              "#46039f"
             ],
             [
              0.2222222222222222,
              "#7201a8"
             ],
             [
              0.3333333333333333,
              "#9c179e"
             ],
             [
              0.4444444444444444,
              "#bd3786"
             ],
             [
              0.5555555555555556,
              "#d8576b"
             ],
             [
              0.6666666666666666,
              "#ed7953"
             ],
             [
              0.7777777777777778,
              "#fb9f3a"
             ],
             [
              0.8888888888888888,
              "#fdca26"
             ],
             [
              1,
              "#f0f921"
             ]
            ],
            "type": "heatmap"
           }
          ],
          "heatmapgl": [
           {
            "colorbar": {
             "outlinewidth": 0,
             "ticks": ""
            },
            "colorscale": [
             [
              0,
              "#0d0887"
             ],
             [
              0.1111111111111111,
              "#46039f"
             ],
             [
              0.2222222222222222,
              "#7201a8"
             ],
             [
              0.3333333333333333,
              "#9c179e"
             ],
             [
              0.4444444444444444,
              "#bd3786"
             ],
             [
              0.5555555555555556,
              "#d8576b"
             ],
             [
              0.6666666666666666,
              "#ed7953"
             ],
             [
              0.7777777777777778,
              "#fb9f3a"
             ],
             [
              0.8888888888888888,
              "#fdca26"
             ],
             [
              1,
              "#f0f921"
             ]
            ],
            "type": "heatmapgl"
           }
          ],
          "histogram": [
           {
            "marker": {
             "pattern": {
              "fillmode": "overlay",
              "size": 10,
              "solidity": 0.2
             }
            },
            "type": "histogram"
           }
          ],
          "histogram2d": [
           {
            "colorbar": {
             "outlinewidth": 0,
             "ticks": ""
            },
            "colorscale": [
             [
              0,
              "#0d0887"
             ],
             [
              0.1111111111111111,
              "#46039f"
             ],
             [
              0.2222222222222222,
              "#7201a8"
             ],
             [
              0.3333333333333333,
              "#9c179e"
             ],
             [
              0.4444444444444444,
              "#bd3786"
             ],
             [
              0.5555555555555556,
              "#d8576b"
             ],
             [
              0.6666666666666666,
              "#ed7953"
             ],
             [
              0.7777777777777778,
              "#fb9f3a"
             ],
             [
              0.8888888888888888,
              "#fdca26"
             ],
             [
              1,
              "#f0f921"
             ]
            ],
            "type": "histogram2d"
           }
          ],
          "histogram2dcontour": [
           {
            "colorbar": {
             "outlinewidth": 0,
             "ticks": ""
            },
            "colorscale": [
             [
              0,
              "#0d0887"
             ],
             [
              0.1111111111111111,
              "#46039f"
             ],
             [
              0.2222222222222222,
              "#7201a8"
             ],
             [
              0.3333333333333333,
              "#9c179e"
             ],
             [
              0.4444444444444444,
              "#bd3786"
             ],
             [
              0.5555555555555556,
              "#d8576b"
             ],
             [
              0.6666666666666666,
              "#ed7953"
             ],
             [
              0.7777777777777778,
              "#fb9f3a"
             ],
             [
              0.8888888888888888,
              "#fdca26"
             ],
             [
              1,
              "#f0f921"
             ]
            ],
            "type": "histogram2dcontour"
           }
          ],
          "mesh3d": [
           {
            "colorbar": {
             "outlinewidth": 0,
             "ticks": ""
            },
            "type": "mesh3d"
           }
          ],
          "parcoords": [
           {
            "line": {
             "colorbar": {
              "outlinewidth": 0,
              "ticks": ""
             }
            },
            "type": "parcoords"
           }
          ],
          "pie": [
           {
            "automargin": true,
            "type": "pie"
           }
          ],
          "scatter": [
           {
            "marker": {
             "colorbar": {
              "outlinewidth": 0,
              "ticks": ""
             }
            },
            "type": "scatter"
           }
          ],
          "scatter3d": [
           {
            "line": {
             "colorbar": {
              "outlinewidth": 0,
              "ticks": ""
             }
            },
            "marker": {
             "colorbar": {
              "outlinewidth": 0,
              "ticks": ""
             }
            },
            "type": "scatter3d"
           }
          ],
          "scattercarpet": [
           {
            "marker": {
             "colorbar": {
              "outlinewidth": 0,
              "ticks": ""
             }
            },
            "type": "scattercarpet"
           }
          ],
          "scattergeo": [
           {
            "marker": {
             "colorbar": {
              "outlinewidth": 0,
              "ticks": ""
             }
            },
            "type": "scattergeo"
           }
          ],
          "scattergl": [
           {
            "marker": {
             "colorbar": {
              "outlinewidth": 0,
              "ticks": ""
             }
            },
            "type": "scattergl"
           }
          ],
          "scattermapbox": [
           {
            "marker": {
             "colorbar": {
              "outlinewidth": 0,
              "ticks": ""
             }
            },
            "type": "scattermapbox"
           }
          ],
          "scatterpolar": [
           {
            "marker": {
             "colorbar": {
              "outlinewidth": 0,
              "ticks": ""
             }
            },
            "type": "scatterpolar"
           }
          ],
          "scatterpolargl": [
           {
            "marker": {
             "colorbar": {
              "outlinewidth": 0,
              "ticks": ""
             }
            },
            "type": "scatterpolargl"
           }
          ],
          "scatterternary": [
           {
            "marker": {
             "colorbar": {
              "outlinewidth": 0,
              "ticks": ""
             }
            },
            "type": "scatterternary"
           }
          ],
          "surface": [
           {
            "colorbar": {
             "outlinewidth": 0,
             "ticks": ""
            },
            "colorscale": [
             [
              0,
              "#0d0887"
             ],
             [
              0.1111111111111111,
              "#46039f"
             ],
             [
              0.2222222222222222,
              "#7201a8"
             ],
             [
              0.3333333333333333,
              "#9c179e"
             ],
             [
              0.4444444444444444,
              "#bd3786"
             ],
             [
              0.5555555555555556,
              "#d8576b"
             ],
             [
              0.6666666666666666,
              "#ed7953"
             ],
             [
              0.7777777777777778,
              "#fb9f3a"
             ],
             [
              0.8888888888888888,
              "#fdca26"
             ],
             [
              1,
              "#f0f921"
             ]
            ],
            "type": "surface"
           }
          ],
          "table": [
           {
            "cells": {
             "fill": {
              "color": "#EBF0F8"
             },
             "line": {
              "color": "white"
             }
            },
            "header": {
             "fill": {
              "color": "#C8D4E3"
             },
             "line": {
              "color": "white"
             }
            },
            "type": "table"
           }
          ]
         },
         "layout": {
          "annotationdefaults": {
           "arrowcolor": "#2a3f5f",
           "arrowhead": 0,
           "arrowwidth": 1
          },
          "autotypenumbers": "strict",
          "coloraxis": {
           "colorbar": {
            "outlinewidth": 0,
            "ticks": ""
           }
          },
          "colorscale": {
           "diverging": [
            [
             0,
             "#8e0152"
            ],
            [
             0.1,
             "#c51b7d"
            ],
            [
             0.2,
             "#de77ae"
            ],
            [
             0.3,
             "#f1b6da"
            ],
            [
             0.4,
             "#fde0ef"
            ],
            [
             0.5,
             "#f7f7f7"
            ],
            [
             0.6,
             "#e6f5d0"
            ],
            [
             0.7,
             "#b8e186"
            ],
            [
             0.8,
             "#7fbc41"
            ],
            [
             0.9,
             "#4d9221"
            ],
            [
             1,
             "#276419"
            ]
           ],
           "sequential": [
            [
             0,
             "#0d0887"
            ],
            [
             0.1111111111111111,
             "#46039f"
            ],
            [
             0.2222222222222222,
             "#7201a8"
            ],
            [
             0.3333333333333333,
             "#9c179e"
            ],
            [
             0.4444444444444444,
             "#bd3786"
            ],
            [
             0.5555555555555556,
             "#d8576b"
            ],
            [
             0.6666666666666666,
             "#ed7953"
            ],
            [
             0.7777777777777778,
             "#fb9f3a"
            ],
            [
             0.8888888888888888,
             "#fdca26"
            ],
            [
             1,
             "#f0f921"
            ]
           ],
           "sequentialminus": [
            [
             0,
             "#0d0887"
            ],
            [
             0.1111111111111111,
             "#46039f"
            ],
            [
             0.2222222222222222,
             "#7201a8"
            ],
            [
             0.3333333333333333,
             "#9c179e"
            ],
            [
             0.4444444444444444,
             "#bd3786"
            ],
            [
             0.5555555555555556,
             "#d8576b"
            ],
            [
             0.6666666666666666,
             "#ed7953"
            ],
            [
             0.7777777777777778,
             "#fb9f3a"
            ],
            [
             0.8888888888888888,
             "#fdca26"
            ],
            [
             1,
             "#f0f921"
            ]
           ]
          },
          "colorway": [
           "#636efa",
           "#EF553B",
           "#00cc96",
           "#ab63fa",
           "#FFA15A",
           "#19d3f3",
           "#FF6692",
           "#B6E880",
           "#FF97FF",
           "#FECB52"
          ],
          "font": {
           "color": "#2a3f5f"
          },
          "geo": {
           "bgcolor": "white",
           "lakecolor": "white",
           "landcolor": "#E5ECF6",
           "showlakes": true,
           "showland": true,
           "subunitcolor": "white"
          },
          "hoverlabel": {
           "align": "left"
          },
          "hovermode": "closest",
          "mapbox": {
           "style": "light"
          },
          "paper_bgcolor": "white",
          "plot_bgcolor": "#E5ECF6",
          "polar": {
           "angularaxis": {
            "gridcolor": "white",
            "linecolor": "white",
            "ticks": ""
           },
           "bgcolor": "#E5ECF6",
           "radialaxis": {
            "gridcolor": "white",
            "linecolor": "white",
            "ticks": ""
           }
          },
          "scene": {
           "xaxis": {
            "backgroundcolor": "#E5ECF6",
            "gridcolor": "white",
            "gridwidth": 2,
            "linecolor": "white",
            "showbackground": true,
            "ticks": "",
            "zerolinecolor": "white"
           },
           "yaxis": {
            "backgroundcolor": "#E5ECF6",
            "gridcolor": "white",
            "gridwidth": 2,
            "linecolor": "white",
            "showbackground": true,
            "ticks": "",
            "zerolinecolor": "white"
           },
           "zaxis": {
            "backgroundcolor": "#E5ECF6",
            "gridcolor": "white",
            "gridwidth": 2,
            "linecolor": "white",
            "showbackground": true,
            "ticks": "",
            "zerolinecolor": "white"
           }
          },
          "shapedefaults": {
           "line": {
            "color": "#2a3f5f"
           }
          },
          "ternary": {
           "aaxis": {
            "gridcolor": "white",
            "linecolor": "white",
            "ticks": ""
           },
           "baxis": {
            "gridcolor": "white",
            "linecolor": "white",
            "ticks": ""
           },
           "bgcolor": "#E5ECF6",
           "caxis": {
            "gridcolor": "white",
            "linecolor": "white",
            "ticks": ""
           }
          },
          "title": {
           "x": 0.05
          },
          "xaxis": {
           "automargin": true,
           "gridcolor": "white",
           "linecolor": "white",
           "ticks": "",
           "title": {
            "standoff": 15
           },
           "zerolinecolor": "white",
           "zerolinewidth": 2
          },
          "yaxis": {
           "automargin": true,
           "gridcolor": "white",
           "linecolor": "white",
           "ticks": "",
           "title": {
            "standoff": 15
           },
           "zerolinecolor": "white",
           "zerolinewidth": 2
          }
         }
        },
        "title": {
         "text": "Power"
        }
       }
      },
      "text/html": [
       "<div>                            <div id=\"24bceab6-99bc-48fd-a6c3-f9b7764896ac\" class=\"plotly-graph-div\" style=\"height:525px; width:100%;\"></div>            <script type=\"text/javascript\">                require([\"plotly\"], function(Plotly) {                    window.PLOTLYENV=window.PLOTLYENV || {};                                    if (document.getElementById(\"24bceab6-99bc-48fd-a6c3-f9b7764896ac\")) {                    Plotly.newPlot(                        \"24bceab6-99bc-48fd-a6c3-f9b7764896ac\",                        [{\"name\":\"actual\",\"x\":[\"2018-11-14T17:00:00\",\"2018-11-14T18:00:00\",\"2018-11-14T19:00:00\",\"2018-11-14T20:00:00\",\"2018-11-14T21:00:00\",\"2018-11-14T22:00:00\",\"2018-11-14T23:00:00\",\"2018-11-15T00:00:00\",\"2018-11-15T01:00:00\",\"2018-11-15T02:00:00\",\"2018-11-15T03:00:00\",\"2018-11-15T04:00:00\",\"2018-11-15T06:00:00\",\"2018-11-15T07:00:00\",\"2018-11-15T09:00:00\",\"2018-11-15T10:00:00\",\"2018-11-15T13:00:00\",\"2018-11-15T14:00:00\",\"2018-11-15T15:00:00\",\"2018-11-15T16:00:00\",\"2018-11-15T17:00:00\",\"2018-11-15T18:00:00\",\"2018-11-15T19:00:00\",\"2018-11-15T20:00:00\",\"2018-11-15T21:00:00\",\"2018-11-15T22:00:00\",\"2018-11-15T23:00:00\",\"2018-11-16T00:00:00\",\"2018-11-16T01:00:00\",\"2018-11-16T02:00:00\",\"2018-11-16T03:00:00\",\"2018-11-16T04:00:00\",\"2018-11-16T05:00:00\",\"2018-11-16T06:00:00\",\"2018-11-16T07:00:00\",\"2018-11-16T08:00:00\",\"2018-11-16T09:00:00\",\"2018-11-16T10:00:00\",\"2018-11-16T11:00:00\",\"2018-11-16T12:00:00\",\"2018-11-16T13:00:00\",\"2018-11-16T14:00:00\",\"2018-11-16T15:00:00\",\"2018-11-16T16:00:00\",\"2018-11-16T17:00:00\",\"2018-11-16T18:00:00\",\"2018-11-16T19:00:00\",\"2018-11-16T20:00:00\",\"2018-11-16T21:00:00\",\"2018-11-16T22:00:00\",\"2018-11-16T23:00:00\",\"2018-11-17T00:00:00\",\"2018-11-17T01:00:00\",\"2018-11-17T02:00:00\",\"2018-11-17T03:00:00\",\"2018-11-17T04:00:00\",\"2018-11-17T05:00:00\",\"2018-11-17T06:00:00\",\"2018-11-17T07:00:00\",\"2018-11-17T08:00:00\",\"2018-11-17T09:00:00\",\"2018-11-17T10:00:00\",\"2018-11-17T11:00:00\",\"2018-11-17T12:00:00\",\"2018-11-17T13:00:00\",\"2018-11-17T14:00:00\",\"2018-11-17T15:00:00\",\"2018-11-17T16:00:00\",\"2018-11-17T17:00:00\",\"2018-11-17T18:00:00\",\"2018-11-17T19:00:00\",\"2018-11-17T20:00:00\",\"2018-11-17T21:00:00\",\"2018-11-17T22:00:00\",\"2018-11-17T23:00:00\",\"2018-11-18T00:00:00\",\"2018-11-18T01:00:00\",\"2018-11-18T02:00:00\",\"2018-11-18T03:00:00\",\"2018-11-18T04:00:00\",\"2018-11-18T05:00:00\",\"2018-11-18T06:00:00\",\"2018-11-18T07:00:00\",\"2018-11-18T08:00:00\",\"2018-11-18T09:00:00\",\"2018-11-18T10:00:00\",\"2018-11-18T11:00:00\",\"2018-11-18T12:00:00\",\"2018-11-18T13:00:00\",\"2018-11-18T14:00:00\",\"2018-11-18T15:00:00\",\"2018-11-18T16:00:00\",\"2018-11-18T17:00:00\",\"2018-11-18T18:00:00\",\"2018-11-18T19:00:00\",\"2018-11-18T20:00:00\",\"2018-11-18T21:00:00\",\"2018-11-18T22:00:00\",\"2018-11-18T23:00:00\",\"2018-11-19T00:00:00\",\"2018-11-19T01:00:00\",\"2018-11-19T02:00:00\",\"2018-11-19T03:00:00\",\"2018-11-19T04:00:00\",\"2018-11-19T05:00:00\",\"2018-11-19T06:00:00\",\"2018-11-19T07:00:00\",\"2018-11-19T08:00:00\",\"2018-11-19T09:00:00\",\"2018-11-19T10:00:00\",\"2018-11-19T11:00:00\",\"2018-11-19T12:00:00\",\"2018-11-19T13:00:00\",\"2018-11-19T14:00:00\",\"2018-11-19T15:00:00\",\"2018-11-19T16:00:00\",\"2018-11-19T17:00:00\",\"2018-11-19T18:00:00\",\"2018-11-19T19:00:00\",\"2018-11-19T20:00:00\",\"2018-11-19T21:00:00\",\"2018-11-19T22:00:00\",\"2018-11-19T23:00:00\",\"2018-11-20T00:00:00\",\"2018-11-20T01:00:00\",\"2018-11-20T02:00:00\",\"2018-11-20T03:00:00\",\"2018-11-20T04:00:00\",\"2018-11-20T05:00:00\",\"2018-11-20T06:00:00\",\"2018-11-20T07:00:00\",\"2018-11-20T08:00:00\",\"2018-11-20T09:00:00\",\"2018-11-20T10:00:00\",\"2018-11-20T11:00:00\",\"2018-11-20T12:00:00\",\"2018-11-20T13:00:00\",\"2018-11-20T14:00:00\",\"2018-11-20T15:00:00\",\"2018-11-20T16:00:00\",\"2018-11-20T17:00:00\",\"2018-11-20T18:00:00\",\"2018-11-20T19:00:00\",\"2018-11-20T20:00:00\",\"2018-11-20T21:00:00\",\"2018-11-20T22:00:00\",\"2018-11-20T23:00:00\",\"2018-11-21T00:00:00\",\"2018-11-21T01:00:00\",\"2018-11-21T02:00:00\",\"2018-11-21T03:00:00\",\"2018-11-21T04:00:00\",\"2018-11-21T05:00:00\",\"2018-11-21T06:00:00\",\"2018-11-21T07:00:00\",\"2018-11-21T08:00:00\",\"2018-11-21T09:00:00\",\"2018-11-21T10:00:00\",\"2018-11-21T11:00:00\",\"2018-11-21T12:00:00\",\"2018-11-21T13:00:00\",\"2018-11-21T14:00:00\",\"2018-11-21T15:00:00\",\"2018-11-21T16:00:00\",\"2018-11-21T17:00:00\",\"2018-11-21T18:00:00\",\"2018-11-21T19:00:00\",\"2018-11-21T20:00:00\",\"2018-11-21T21:00:00\",\"2018-11-21T22:00:00\",\"2018-11-21T23:00:00\",\"2018-11-22T00:00:00\",\"2018-11-22T01:00:00\",\"2018-11-22T02:00:00\",\"2018-11-22T08:00:00\",\"2018-11-22T09:00:00\",\"2018-11-22T10:00:00\",\"2018-11-22T11:00:00\",\"2018-11-22T12:00:00\",\"2018-11-22T13:00:00\",\"2018-11-22T14:00:00\",\"2018-11-22T15:00:00\",\"2018-11-22T16:00:00\",\"2018-11-22T17:00:00\",\"2018-11-22T18:00:00\",\"2018-11-22T19:00:00\",\"2018-11-22T20:00:00\",\"2018-11-22T21:00:00\",\"2018-11-22T22:00:00\",\"2018-11-22T23:00:00\",\"2018-11-23T00:00:00\",\"2018-11-23T01:00:00\",\"2018-11-23T02:00:00\",\"2018-11-23T03:00:00\",\"2018-11-23T04:00:00\",\"2018-11-23T05:00:00\",\"2018-11-23T06:00:00\",\"2018-11-23T07:00:00\",\"2018-11-23T08:00:00\",\"2018-11-23T09:00:00\",\"2018-11-23T10:00:00\",\"2018-11-23T11:00:00\",\"2018-11-23T12:00:00\",\"2018-11-23T13:00:00\",\"2018-11-23T14:00:00\",\"2018-11-23T15:00:00\"],\"y\":[1607.25451660156,1198.8626708984361,781.769653320312,890.2727050781245,870.432159423828,721.9172363281245,321.00581359863247,301.43200683593705,393.18464660644497,157.3146972656245,31.898114204406703,141.630004882812,7.31867694854736,66.1610031127929,30.87371361255643,35.0314598083496,235.123954772949,333.22140502929653,699.3512878417965,1699.27697753906,2958.3804931640598,2760.166015624995,2232.79248046875,2537.59204101562,2307.388916015625,2938.167968749995,1802.57495117187,2585.43090820312,3515.679443359375,3484.65698242187,3193.2979736328098,2589.0865478515598,2701.7320556640598,2412.1400146484348,3300.417968749995,2612.86499023437,2187.5364990234348,2066.0660400390598,2480.197998046875,2735.753906249995,3231.31494140625,3487.915039062495,2816.156494140625,2196.697509765625,1846.21655273437,1365.6384887695299,1221.4099731445299,605.175598144531,801.1252136230464,849.5744628906245,1124.4400024413999,1868.588012695305,1192.739013671875,2042.5239868163999,2152.52954101562,2806.6319580078098,2810.9525146484348,2058.210998535155,2499.51391601562,1693.39300537109,1153.178985595695,907.0887451171835,790.8952636718745,1018.778991699215,1186.238952636715,1003.677520751949,1699.26800537109,1125.8989868164049,2338.73046875,2001.2210083007799,1055.65097045898,1029.861511230465,832.0144653320305,819.6534729003905,283.71005249023403,380.035598754882,654.8998718261715,1109.52697753906,1049.8860473632749,1668.51898193359,2091.11645507812,2136.242919921875,1665.36901855468,891.646545410156,373.2046051025385,248.890304565429,711.383911132812,283.8821563720695,388.0200042724605,1103.65551757812,1057.870483398435,230.642601013183,106.18144989013649,854.3941345214839,2325.07806396484,3591.40893554687,3476.1719970703098,3462.187011718745,3461.6175537109348,3461.3585205078098,3461.2904052734348,3461.571533203125,3462.8394775390598,3463.4053955078098,3462.3929443359348,3461.74047851562,3462.538085937495,3462.7110595703098,3602.4005126953098,3595.382568359375,3425.9400634765598,1901.548950195305,2445.94604492187,1591.486999511715,1846.436523437495,568.761047363281,2092.9415283203098,3524.730468749995,2633.4959716796848,560.2401428222655,738.3533630371089,569.280639648437,1124.643554687495,577.3589477539055,347.88964843749955,434.426651000976,340.3699035644525,381.12744140624955,600.0970153808589,909.5285034179685,1131.8345336913999,1054.330780029294,745.037170410156,867.3464050292965,860.9923706054685,1078.592468261715,1060.53900146484,3009.4630126953098,2816.30200195312,2308.22998046875,2058.40753173828,2586.5860595703098,2510.26342773437,2584.5355224609348,2251.272949218745,2517.382080078125,2660.781494140625,1893.7639770507799,1701.562499999995,1272.80902099609,1016.25549316406,444.7013092041015,972.1748352050755,1031.8480224609375,485.8911437988275,45.9748992919921,277.51095581054653,103.139583587646,724.947357177734,595.7182312011715,545.931335449218,870.2681579589839,1152.87902832031,1070.306640625,600.199340820312,449.2643432617185,498.2602539062495,849.3150329589839,634.219512939453,664.0259704589839,577.416625976562,482.19465637206997,146.5728988647455,77.4769897460937,15.3534603118896,564.916549682617,589.8737487792965,1597.05895996093,3007.2239990234348,3129.0775146484348,3099.2559814453098,3245.7364501953098,3390.4525146484348,3069.21044921875,3375.916503906245,2540.418945312495,3215.135986328125,3356.5455322265598,3239.1424560546848,3305.69140625,3182.2554931640598,2353.7469482421848,2679.6259765625,2563.0909423828098,2368.0445556640598,1724.3779907226549,1548.886474609375,1608.515991210935,637.7998046875,478.9440917968745,null,null,null,null,null,null],\"type\":\"scatter\"},{\"name\":\"prediction\",\"x\":[\"2018-11-14T17:00:00\",\"2018-11-14T18:00:00\",\"2018-11-14T19:00:00\",\"2018-11-14T20:00:00\",\"2018-11-14T21:00:00\",\"2018-11-14T22:00:00\",\"2018-11-14T23:00:00\",\"2018-11-15T00:00:00\",\"2018-11-15T01:00:00\",\"2018-11-15T02:00:00\",\"2018-11-15T03:00:00\",\"2018-11-15T04:00:00\",\"2018-11-15T06:00:00\",\"2018-11-15T07:00:00\",\"2018-11-15T09:00:00\",\"2018-11-15T10:00:00\",\"2018-11-15T13:00:00\",\"2018-11-15T14:00:00\",\"2018-11-15T15:00:00\",\"2018-11-15T16:00:00\",\"2018-11-15T17:00:00\",\"2018-11-15T18:00:00\",\"2018-11-15T19:00:00\",\"2018-11-15T20:00:00\",\"2018-11-15T21:00:00\",\"2018-11-15T22:00:00\",\"2018-11-15T23:00:00\",\"2018-11-16T00:00:00\",\"2018-11-16T01:00:00\",\"2018-11-16T02:00:00\",\"2018-11-16T03:00:00\",\"2018-11-16T04:00:00\",\"2018-11-16T05:00:00\",\"2018-11-16T06:00:00\",\"2018-11-16T07:00:00\",\"2018-11-16T08:00:00\",\"2018-11-16T09:00:00\",\"2018-11-16T10:00:00\",\"2018-11-16T11:00:00\",\"2018-11-16T12:00:00\",\"2018-11-16T13:00:00\",\"2018-11-16T14:00:00\",\"2018-11-16T15:00:00\",\"2018-11-16T16:00:00\",\"2018-11-16T17:00:00\",\"2018-11-16T18:00:00\",\"2018-11-16T19:00:00\",\"2018-11-16T20:00:00\",\"2018-11-16T21:00:00\",\"2018-11-16T22:00:00\",\"2018-11-16T23:00:00\",\"2018-11-17T00:00:00\",\"2018-11-17T01:00:00\",\"2018-11-17T02:00:00\",\"2018-11-17T03:00:00\",\"2018-11-17T04:00:00\",\"2018-11-17T05:00:00\",\"2018-11-17T06:00:00\",\"2018-11-17T07:00:00\",\"2018-11-17T08:00:00\",\"2018-11-17T09:00:00\",\"2018-11-17T10:00:00\",\"2018-11-17T11:00:00\",\"2018-11-17T12:00:00\",\"2018-11-17T13:00:00\",\"2018-11-17T14:00:00\",\"2018-11-17T15:00:00\",\"2018-11-17T16:00:00\",\"2018-11-17T17:00:00\",\"2018-11-17T18:00:00\",\"2018-11-17T19:00:00\",\"2018-11-17T20:00:00\",\"2018-11-17T21:00:00\",\"2018-11-17T22:00:00\",\"2018-11-17T23:00:00\",\"2018-11-18T00:00:00\",\"2018-11-18T01:00:00\",\"2018-11-18T02:00:00\",\"2018-11-18T03:00:00\",\"2018-11-18T04:00:00\",\"2018-11-18T05:00:00\",\"2018-11-18T06:00:00\",\"2018-11-18T07:00:00\",\"2018-11-18T08:00:00\",\"2018-11-18T09:00:00\",\"2018-11-18T10:00:00\",\"2018-11-18T11:00:00\",\"2018-11-18T12:00:00\",\"2018-11-18T13:00:00\",\"2018-11-18T14:00:00\",\"2018-11-18T15:00:00\",\"2018-11-18T16:00:00\",\"2018-11-18T17:00:00\",\"2018-11-18T18:00:00\",\"2018-11-18T19:00:00\",\"2018-11-18T20:00:00\",\"2018-11-18T21:00:00\",\"2018-11-18T22:00:00\",\"2018-11-18T23:00:00\",\"2018-11-19T00:00:00\",\"2018-11-19T01:00:00\",\"2018-11-19T02:00:00\",\"2018-11-19T03:00:00\",\"2018-11-19T04:00:00\",\"2018-11-19T05:00:00\",\"2018-11-19T06:00:00\",\"2018-11-19T07:00:00\",\"2018-11-19T08:00:00\",\"2018-11-19T09:00:00\",\"2018-11-19T10:00:00\",\"2018-11-19T11:00:00\",\"2018-11-19T12:00:00\",\"2018-11-19T13:00:00\",\"2018-11-19T14:00:00\",\"2018-11-19T15:00:00\",\"2018-11-19T16:00:00\",\"2018-11-19T17:00:00\",\"2018-11-19T18:00:00\",\"2018-11-19T19:00:00\",\"2018-11-19T20:00:00\",\"2018-11-19T21:00:00\",\"2018-11-19T22:00:00\",\"2018-11-19T23:00:00\",\"2018-11-20T00:00:00\",\"2018-11-20T01:00:00\",\"2018-11-20T02:00:00\",\"2018-11-20T03:00:00\",\"2018-11-20T04:00:00\",\"2018-11-20T05:00:00\",\"2018-11-20T06:00:00\",\"2018-11-20T07:00:00\",\"2018-11-20T08:00:00\",\"2018-11-20T09:00:00\",\"2018-11-20T10:00:00\",\"2018-11-20T11:00:00\",\"2018-11-20T12:00:00\",\"2018-11-20T13:00:00\",\"2018-11-20T14:00:00\",\"2018-11-20T15:00:00\",\"2018-11-20T16:00:00\",\"2018-11-20T17:00:00\",\"2018-11-20T18:00:00\",\"2018-11-20T19:00:00\",\"2018-11-20T20:00:00\",\"2018-11-20T21:00:00\",\"2018-11-20T22:00:00\",\"2018-11-20T23:00:00\",\"2018-11-21T00:00:00\",\"2018-11-21T01:00:00\",\"2018-11-21T02:00:00\",\"2018-11-21T03:00:00\",\"2018-11-21T04:00:00\",\"2018-11-21T05:00:00\",\"2018-11-21T06:00:00\",\"2018-11-21T07:00:00\",\"2018-11-21T08:00:00\",\"2018-11-21T09:00:00\",\"2018-11-21T10:00:00\",\"2018-11-21T11:00:00\",\"2018-11-21T12:00:00\",\"2018-11-21T13:00:00\",\"2018-11-21T14:00:00\",\"2018-11-21T15:00:00\",\"2018-11-21T16:00:00\",\"2018-11-21T17:00:00\",\"2018-11-21T18:00:00\",\"2018-11-21T19:00:00\",\"2018-11-21T20:00:00\",\"2018-11-21T21:00:00\",\"2018-11-21T22:00:00\",\"2018-11-21T23:00:00\",\"2018-11-22T00:00:00\",\"2018-11-22T01:00:00\",\"2018-11-22T02:00:00\",\"2018-11-22T08:00:00\",\"2018-11-22T09:00:00\",\"2018-11-22T10:00:00\",\"2018-11-22T11:00:00\",\"2018-11-22T12:00:00\",\"2018-11-22T13:00:00\",\"2018-11-22T14:00:00\",\"2018-11-22T15:00:00\",\"2018-11-22T16:00:00\",\"2018-11-22T17:00:00\",\"2018-11-22T18:00:00\",\"2018-11-22T19:00:00\",\"2018-11-22T20:00:00\",\"2018-11-22T21:00:00\",\"2018-11-22T22:00:00\",\"2018-11-22T23:00:00\",\"2018-11-23T00:00:00\",\"2018-11-23T01:00:00\",\"2018-11-23T02:00:00\",\"2018-11-23T03:00:00\",\"2018-11-23T04:00:00\",\"2018-11-23T05:00:00\",\"2018-11-23T06:00:00\",\"2018-11-23T07:00:00\",\"2018-11-23T08:00:00\",\"2018-11-23T09:00:00\",\"2018-11-23T10:00:00\",\"2018-11-23T11:00:00\",\"2018-11-23T12:00:00\",\"2018-11-23T13:00:00\",\"2018-11-23T14:00:00\",\"2018-11-23T15:00:00\"],\"y\":[null,null,null,null,null,null,null,null,null,null,null,null,null,null,null,null,null,null,null,null,null,null,null,null,null,null,null,null,null,null,null,null,null,null,null,null,null,null,null,null,null,null,null,null,null,null,null,null,null,null,null,null,null,null,null,null,null,null,null,null,null,null,null,null,null,null,null,null,null,null,null,null,null,null,null,null,null,null,null,null,null,null,null,null,null,null,null,null,null,null,null,null,null,null,null,null,null,null,null,null,null,null,null,null,null,null,null,null,null,null,null,null,null,null,null,null,null,null,null,null,null,null,null,null,null,null,null,null,null,null,null,null,null,null,null,null,null,null,null,null,null,null,null,null,null,null,null,null,null,null,null,null,null,null,null,null,null,null,null,null,null,null,null,null,null,null,null,null,null,null,null,null,null,null,null,null,null,null,null,null,null,null,null,null,null,null,null,null,null,null,null,null,null,null,null,null,null,null,null,null,2777.6361267689886,2686.2001457616548,2712.8195705287562,2743.841449362513,2762.145700347981,2766.5537391046114],\"type\":\"scatter\"}],                        {\"template\":{\"data\":{\"barpolar\":[{\"marker\":{\"line\":{\"color\":\"#E5ECF6\",\"width\":0.5},\"pattern\":{\"fillmode\":\"overlay\",\"size\":10,\"solidity\":0.2}},\"type\":\"barpolar\"}],\"bar\":[{\"error_x\":{\"color\":\"#2a3f5f\"},\"error_y\":{\"color\":\"#2a3f5f\"},\"marker\":{\"line\":{\"color\":\"#E5ECF6\",\"width\":0.5},\"pattern\":{\"fillmode\":\"overlay\",\"size\":10,\"solidity\":0.2}},\"type\":\"bar\"}],\"carpet\":[{\"aaxis\":{\"endlinecolor\":\"#2a3f5f\",\"gridcolor\":\"white\",\"linecolor\":\"white\",\"minorgridcolor\":\"white\",\"startlinecolor\":\"#2a3f5f\"},\"baxis\":{\"endlinecolor\":\"#2a3f5f\",\"gridcolor\":\"white\",\"linecolor\":\"white\",\"minorgridcolor\":\"white\",\"startlinecolor\":\"#2a3f5f\"},\"type\":\"carpet\"}],\"choropleth\":[{\"colorbar\":{\"outlinewidth\":0,\"ticks\":\"\"},\"type\":\"choropleth\"}],\"contourcarpet\":[{\"colorbar\":{\"outlinewidth\":0,\"ticks\":\"\"},\"type\":\"contourcarpet\"}],\"contour\":[{\"colorbar\":{\"outlinewidth\":0,\"ticks\":\"\"},\"colorscale\":[[0.0,\"#0d0887\"],[0.1111111111111111,\"#46039f\"],[0.2222222222222222,\"#7201a8\"],[0.3333333333333333,\"#9c179e\"],[0.4444444444444444,\"#bd3786\"],[0.5555555555555556,\"#d8576b\"],[0.6666666666666666,\"#ed7953\"],[0.7777777777777778,\"#fb9f3a\"],[0.8888888888888888,\"#fdca26\"],[1.0,\"#f0f921\"]],\"type\":\"contour\"}],\"heatmapgl\":[{\"colorbar\":{\"outlinewidth\":0,\"ticks\":\"\"},\"colorscale\":[[0.0,\"#0d0887\"],[0.1111111111111111,\"#46039f\"],[0.2222222222222222,\"#7201a8\"],[0.3333333333333333,\"#9c179e\"],[0.4444444444444444,\"#bd3786\"],[0.5555555555555556,\"#d8576b\"],[0.6666666666666666,\"#ed7953\"],[0.7777777777777778,\"#fb9f3a\"],[0.8888888888888888,\"#fdca26\"],[1.0,\"#f0f921\"]],\"type\":\"heatmapgl\"}],\"heatmap\":[{\"colorbar\":{\"outlinewidth\":0,\"ticks\":\"\"},\"colorscale\":[[0.0,\"#0d0887\"],[0.1111111111111111,\"#46039f\"],[0.2222222222222222,\"#7201a8\"],[0.3333333333333333,\"#9c179e\"],[0.4444444444444444,\"#bd3786\"],[0.5555555555555556,\"#d8576b\"],[0.6666666666666666,\"#ed7953\"],[0.7777777777777778,\"#fb9f3a\"],[0.8888888888888888,\"#fdca26\"],[1.0,\"#f0f921\"]],\"type\":\"heatmap\"}],\"histogram2dcontour\":[{\"colorbar\":{\"outlinewidth\":0,\"ticks\":\"\"},\"colorscale\":[[0.0,\"#0d0887\"],[0.1111111111111111,\"#46039f\"],[0.2222222222222222,\"#7201a8\"],[0.3333333333333333,\"#9c179e\"],[0.4444444444444444,\"#bd3786\"],[0.5555555555555556,\"#d8576b\"],[0.6666666666666666,\"#ed7953\"],[0.7777777777777778,\"#fb9f3a\"],[0.8888888888888888,\"#fdca26\"],[1.0,\"#f0f921\"]],\"type\":\"histogram2dcontour\"}],\"histogram2d\":[{\"colorbar\":{\"outlinewidth\":0,\"ticks\":\"\"},\"colorscale\":[[0.0,\"#0d0887\"],[0.1111111111111111,\"#46039f\"],[0.2222222222222222,\"#7201a8\"],[0.3333333333333333,\"#9c179e\"],[0.4444444444444444,\"#bd3786\"],[0.5555555555555556,\"#d8576b\"],[0.6666666666666666,\"#ed7953\"],[0.7777777777777778,\"#fb9f3a\"],[0.8888888888888888,\"#fdca26\"],[1.0,\"#f0f921\"]],\"type\":\"histogram2d\"}],\"histogram\":[{\"marker\":{\"pattern\":{\"fillmode\":\"overlay\",\"size\":10,\"solidity\":0.2}},\"type\":\"histogram\"}],\"mesh3d\":[{\"colorbar\":{\"outlinewidth\":0,\"ticks\":\"\"},\"type\":\"mesh3d\"}],\"parcoords\":[{\"line\":{\"colorbar\":{\"outlinewidth\":0,\"ticks\":\"\"}},\"type\":\"parcoords\"}],\"pie\":[{\"automargin\":true,\"type\":\"pie\"}],\"scatter3d\":[{\"line\":{\"colorbar\":{\"outlinewidth\":0,\"ticks\":\"\"}},\"marker\":{\"colorbar\":{\"outlinewidth\":0,\"ticks\":\"\"}},\"type\":\"scatter3d\"}],\"scattercarpet\":[{\"marker\":{\"colorbar\":{\"outlinewidth\":0,\"ticks\":\"\"}},\"type\":\"scattercarpet\"}],\"scattergeo\":[{\"marker\":{\"colorbar\":{\"outlinewidth\":0,\"ticks\":\"\"}},\"type\":\"scattergeo\"}],\"scattergl\":[{\"marker\":{\"colorbar\":{\"outlinewidth\":0,\"ticks\":\"\"}},\"type\":\"scattergl\"}],\"scattermapbox\":[{\"marker\":{\"colorbar\":{\"outlinewidth\":0,\"ticks\":\"\"}},\"type\":\"scattermapbox\"}],\"scatterpolargl\":[{\"marker\":{\"colorbar\":{\"outlinewidth\":0,\"ticks\":\"\"}},\"type\":\"scatterpolargl\"}],\"scatterpolar\":[{\"marker\":{\"colorbar\":{\"outlinewidth\":0,\"ticks\":\"\"}},\"type\":\"scatterpolar\"}],\"scatter\":[{\"marker\":{\"colorbar\":{\"outlinewidth\":0,\"ticks\":\"\"}},\"type\":\"scatter\"}],\"scatterternary\":[{\"marker\":{\"colorbar\":{\"outlinewidth\":0,\"ticks\":\"\"}},\"type\":\"scatterternary\"}],\"surface\":[{\"colorbar\":{\"outlinewidth\":0,\"ticks\":\"\"},\"colorscale\":[[0.0,\"#0d0887\"],[0.1111111111111111,\"#46039f\"],[0.2222222222222222,\"#7201a8\"],[0.3333333333333333,\"#9c179e\"],[0.4444444444444444,\"#bd3786\"],[0.5555555555555556,\"#d8576b\"],[0.6666666666666666,\"#ed7953\"],[0.7777777777777778,\"#fb9f3a\"],[0.8888888888888888,\"#fdca26\"],[1.0,\"#f0f921\"]],\"type\":\"surface\"}],\"table\":[{\"cells\":{\"fill\":{\"color\":\"#EBF0F8\"},\"line\":{\"color\":\"white\"}},\"header\":{\"fill\":{\"color\":\"#C8D4E3\"},\"line\":{\"color\":\"white\"}},\"type\":\"table\"}]},\"layout\":{\"annotationdefaults\":{\"arrowcolor\":\"#2a3f5f\",\"arrowhead\":0,\"arrowwidth\":1},\"autotypenumbers\":\"strict\",\"coloraxis\":{\"colorbar\":{\"outlinewidth\":0,\"ticks\":\"\"}},\"colorscale\":{\"diverging\":[[0,\"#8e0152\"],[0.1,\"#c51b7d\"],[0.2,\"#de77ae\"],[0.3,\"#f1b6da\"],[0.4,\"#fde0ef\"],[0.5,\"#f7f7f7\"],[0.6,\"#e6f5d0\"],[0.7,\"#b8e186\"],[0.8,\"#7fbc41\"],[0.9,\"#4d9221\"],[1,\"#276419\"]],\"sequential\":[[0.0,\"#0d0887\"],[0.1111111111111111,\"#46039f\"],[0.2222222222222222,\"#7201a8\"],[0.3333333333333333,\"#9c179e\"],[0.4444444444444444,\"#bd3786\"],[0.5555555555555556,\"#d8576b\"],[0.6666666666666666,\"#ed7953\"],[0.7777777777777778,\"#fb9f3a\"],[0.8888888888888888,\"#fdca26\"],[1.0,\"#f0f921\"]],\"sequentialminus\":[[0.0,\"#0d0887\"],[0.1111111111111111,\"#46039f\"],[0.2222222222222222,\"#7201a8\"],[0.3333333333333333,\"#9c179e\"],[0.4444444444444444,\"#bd3786\"],[0.5555555555555556,\"#d8576b\"],[0.6666666666666666,\"#ed7953\"],[0.7777777777777778,\"#fb9f3a\"],[0.8888888888888888,\"#fdca26\"],[1.0,\"#f0f921\"]]},\"colorway\":[\"#636efa\",\"#EF553B\",\"#00cc96\",\"#ab63fa\",\"#FFA15A\",\"#19d3f3\",\"#FF6692\",\"#B6E880\",\"#FF97FF\",\"#FECB52\"],\"font\":{\"color\":\"#2a3f5f\"},\"geo\":{\"bgcolor\":\"white\",\"lakecolor\":\"white\",\"landcolor\":\"#E5ECF6\",\"showlakes\":true,\"showland\":true,\"subunitcolor\":\"white\"},\"hoverlabel\":{\"align\":\"left\"},\"hovermode\":\"closest\",\"mapbox\":{\"style\":\"light\"},\"paper_bgcolor\":\"white\",\"plot_bgcolor\":\"#E5ECF6\",\"polar\":{\"angularaxis\":{\"gridcolor\":\"white\",\"linecolor\":\"white\",\"ticks\":\"\"},\"bgcolor\":\"#E5ECF6\",\"radialaxis\":{\"gridcolor\":\"white\",\"linecolor\":\"white\",\"ticks\":\"\"}},\"scene\":{\"xaxis\":{\"backgroundcolor\":\"#E5ECF6\",\"gridcolor\":\"white\",\"gridwidth\":2,\"linecolor\":\"white\",\"showbackground\":true,\"ticks\":\"\",\"zerolinecolor\":\"white\"},\"yaxis\":{\"backgroundcolor\":\"#E5ECF6\",\"gridcolor\":\"white\",\"gridwidth\":2,\"linecolor\":\"white\",\"showbackground\":true,\"ticks\":\"\",\"zerolinecolor\":\"white\"},\"zaxis\":{\"backgroundcolor\":\"#E5ECF6\",\"gridcolor\":\"white\",\"gridwidth\":2,\"linecolor\":\"white\",\"showbackground\":true,\"ticks\":\"\",\"zerolinecolor\":\"white\"}},\"shapedefaults\":{\"line\":{\"color\":\"#2a3f5f\"}},\"ternary\":{\"aaxis\":{\"gridcolor\":\"white\",\"linecolor\":\"white\",\"ticks\":\"\"},\"baxis\":{\"gridcolor\":\"white\",\"linecolor\":\"white\",\"ticks\":\"\"},\"bgcolor\":\"#E5ECF6\",\"caxis\":{\"gridcolor\":\"white\",\"linecolor\":\"white\",\"ticks\":\"\"}},\"title\":{\"x\":0.05},\"xaxis\":{\"automargin\":true,\"gridcolor\":\"white\",\"linecolor\":\"white\",\"ticks\":\"\",\"title\":{\"standoff\":15},\"zerolinecolor\":\"white\",\"zerolinewidth\":2},\"yaxis\":{\"automargin\":true,\"gridcolor\":\"white\",\"linecolor\":\"white\",\"ticks\":\"\",\"title\":{\"standoff\":15},\"zerolinecolor\":\"white\",\"zerolinewidth\":2}}},\"title\":{\"text\":\"Power\"}},                        {\"responsive\": true}                    ).then(function(){\n",
       "                            \n",
       "var gd = document.getElementById('24bceab6-99bc-48fd-a6c3-f9b7764896ac');\n",
       "var x = new MutationObserver(function (mutations, observer) {{\n",
       "        var display = window.getComputedStyle(gd).display;\n",
       "        if (!display || display === 'none') {{\n",
       "            console.log([gd, 'removed!']);\n",
       "            Plotly.purge(gd);\n",
       "            observer.disconnect();\n",
       "        }}\n",
       "}});\n",
       "\n",
       "// Listen for the removal of the full notebook cells\n",
       "var notebookContainer = gd.closest('#notebook-container');\n",
       "if (notebookContainer) {{\n",
       "    x.observe(notebookContainer, {childList: true});\n",
       "}}\n",
       "\n",
       "// Listen for the clearing of the current output cell\n",
       "var outputEl = gd.closest('.output');\n",
       "if (outputEl) {{\n",
       "    x.observe(outputEl, {childList: true});\n",
       "}}\n",
       "\n",
       "                        })                };                });            </script>        </div>"
      ]
     },
     "metadata": {},
     "output_type": "display_data"
    }
   ],
   "source": [
    "model, history,plot,scaler,table, = trainer(ts_train, ts_validation,ts_test)"
   ]
  },
  {
   "cell_type": "code",
   "execution_count": 27,
   "id": "occasional-partition",
   "metadata": {},
   "outputs": [
    {
     "data": {
      "text/html": [
       "<div>\n",
       "<style scoped>\n",
       "    .dataframe tbody tr th:only-of-type {\n",
       "        vertical-align: middle;\n",
       "    }\n",
       "\n",
       "    .dataframe tbody tr th {\n",
       "        vertical-align: top;\n",
       "    }\n",
       "\n",
       "    .dataframe thead th {\n",
       "        text-align: right;\n",
       "    }\n",
       "</style>\n",
       "<table border=\"1\" class=\"dataframe\">\n",
       "  <thead>\n",
       "    <tr style=\"text-align: right;\">\n",
       "      <th></th>\n",
       "      <th>Power</th>\n",
       "      <th>Prediction</th>\n",
       "    </tr>\n",
       "  </thead>\n",
       "  <tbody>\n",
       "    <tr>\n",
       "      <th>2018-11-23 11:00:00</th>\n",
       "      <td>NaN</td>\n",
       "      <td>2686.200146</td>\n",
       "    </tr>\n",
       "    <tr>\n",
       "      <th>2018-11-23 12:00:00</th>\n",
       "      <td>NaN</td>\n",
       "      <td>2712.819571</td>\n",
       "    </tr>\n",
       "    <tr>\n",
       "      <th>2018-11-23 13:00:00</th>\n",
       "      <td>NaN</td>\n",
       "      <td>2743.841449</td>\n",
       "    </tr>\n",
       "    <tr>\n",
       "      <th>2018-11-23 14:00:00</th>\n",
       "      <td>NaN</td>\n",
       "      <td>2762.145700</td>\n",
       "    </tr>\n",
       "    <tr>\n",
       "      <th>2018-11-23 15:00:00</th>\n",
       "      <td>NaN</td>\n",
       "      <td>2766.553739</td>\n",
       "    </tr>\n",
       "  </tbody>\n",
       "</table>\n",
       "</div>"
      ],
      "text/plain": [
       "                     Power   Prediction\n",
       "2018-11-23 11:00:00    NaN  2686.200146\n",
       "2018-11-23 12:00:00    NaN  2712.819571\n",
       "2018-11-23 13:00:00    NaN  2743.841449\n",
       "2018-11-23 14:00:00    NaN  2762.145700\n",
       "2018-11-23 15:00:00    NaN  2766.553739"
      ]
     },
     "execution_count": 27,
     "metadata": {},
     "output_type": "execute_result"
    }
   ],
   "source": [
    "table.tail()"
   ]
  },
  {
   "cell_type": "code",
   "execution_count": 28,
   "id": "above-desktop",
   "metadata": {},
   "outputs": [],
   "source": [
    "def ploter_predictor(model,scaler,new_data):\n",
    "    \n",
    "    '''note: in jupyter file its defined as plotter\n",
    "    takes new data, site and site specific model and predicts the next 6 time steps\n",
    "\n",
    "     Parameters:\n",
    "     site(str): site column name as shown in data frame\n",
    "     model(object): model object specific to that site\n",
    "     new_data(dataframe): data comforming to the training data frame and must have atleast 13 past observations\n",
    "     \n",
    "\n",
    "     Returns:\n",
    "     returns table with actual values and predictions for that site. and RMSE and MAPE\n",
    "    \n",
    "    '''\n",
    "    from pandas import DataFrame\n",
    "    from sklearn.preprocessing import MinMaxScaler\n",
    "    import numpy as np\n",
    "    from pandas.tseries.offsets import DateOffset\n",
    "\n",
    "    data = new_data\n",
    "    Train = DataFrame(data['Power']).tail(20)\n",
    "    scaler = scaler    \n",
    "    train = scaler.transform(Train)\n",
    "    \n",
    "    #lets define inputs params\n",
    "    n_input = 6\n",
    "    n_features = 1\n",
    "    \n",
    "    test = DataFrame(data['Power']).tail(20)\n",
    "    \n",
    "    pred_list = []\n",
    "    batch = train[-n_input:].reshape((1, n_input, n_features))\n",
    "    \n",
    "    #get metrics by creating current predictions\n",
    "    pred_list = []\n",
    "    batch = train[-12:-6].reshape((1, n_input, n_features))\n",
    "    for i in range(1,6):   \n",
    "        pred_list.append(model.predict(batch)[0]) \n",
    "        batch = train[-12+i:-6+i].reshape((1, n_input, n_features))\n",
    "\n",
    "    batch= train[-7:-1].reshape((1, n_input, n_features))\n",
    "    pred_list.append(model.predict(batch)[0])\n",
    "\n",
    "    df_predict = pd.DataFrame(scaler.inverse_transform(pred_list),\n",
    "                              index=test[-n_input:].index, columns=['Prediction'])\n",
    "    df_predict = pd.concat([test,df_predict], axis=1)\n",
    "\n",
    "    #get future metrics\n",
    "    pred_list2 = []\n",
    "    batch = train[-n_input:].reshape((1, n_input, n_features))\n",
    "\n",
    "    for i in range(n_input):   \n",
    "        pred_list2.append(model.predict(batch)[0]) \n",
    "        batch = np.append(batch[:,1:,:],[[pred_list2[i]]],axis=1)\n",
    "\n",
    "    add_dates = [test.index[-1] + DateOffset(hours=x) for x in range(0,7) ]\n",
    "    future_dates = pd.DataFrame(index=add_dates[1:],columns=test.columns)\n",
    "\n",
    "\n",
    "    df_pred = pd.DataFrame(scaler.inverse_transform(pred_list),\n",
    "                              index=future_dates[-n_input:].index, columns=['Prediction'])\n",
    "    df_proj = pd.concat([df_predict,df_pred[-6:]], axis=0, ignore_index=False)\n",
    "    \n",
    "    from sklearn.metrics import mean_squared_error\n",
    "    from sklearn.metrics import mean_absolute_percentage_error\n",
    "    \n",
    "    #get metrics\n",
    "    metdata = df_proj.dropna()    \n",
    "    RMSE = mean_squared_error(metdata['Power'], \n",
    "                            metdata['Prediction'],squared = False)\n",
    "    MAPE = mean_absolute_percentage_error(metdata['Power'],\n",
    "                                          metdata['Prediction'])\n",
    "\n",
    "    return(df_proj.tail(17),RMSE,MAPE)\n"
   ]
  },
  {
   "cell_type": "code",
   "execution_count": 30,
   "id": "metric-vehicle",
   "metadata": {},
   "outputs": [
    {
     "data": {
      "text/plain": [
       "(                           Power   Prediction\n",
       " 2018-12-31 01:00:00   131.578098          NaN\n",
       " 2018-12-31 14:00:00   108.247452          NaN\n",
       " 2018-12-31 15:00:00   492.586594          NaN\n",
       " 2018-12-31 16:00:00  1304.573486          NaN\n",
       " 2018-12-31 17:00:00   395.041840          NaN\n",
       " 2018-12-31 18:00:00   385.866699   870.012301\n",
       " 2018-12-31 19:00:00   934.974701   593.044059\n",
       " 2018-12-31 20:00:00  1571.804993   898.101305\n",
       " 2018-12-31 21:00:00  2116.489441  1591.658261\n",
       " 2018-12-31 22:00:00  3176.856079  2099.119063\n",
       " 2018-12-31 23:00:00  2668.080078  2607.522389\n",
       " 2019-01-01 00:00:00          NaN   870.012301\n",
       " 2019-01-01 01:00:00          NaN   593.044059\n",
       " 2019-01-01 02:00:00          NaN   898.101305\n",
       " 2019-01-01 03:00:00          NaN  1591.658261\n",
       " 2019-01-01 04:00:00          NaN  2099.119063\n",
       " 2019-01-01 05:00:00          NaN  2607.522389,\n",
       " 611.8036535786968,\n",
       " 0.44315691667254137)"
      ]
     },
     "execution_count": 30,
     "metadata": {},
     "output_type": "execute_result"
    }
   ],
   "source": [
    "ploter_predictor(model,scaler,ts_test)"
   ]
  },
  {
   "cell_type": "code",
   "execution_count": 31,
   "id": "valuable-treasury",
   "metadata": {},
   "outputs": [],
   "source": [
    "\n",
    "model.save('T_model.h5')"
   ]
  },
  {
   "cell_type": "code",
   "execution_count": 32,
   "id": "ultimate-transcript",
   "metadata": {},
   "outputs": [
    {
     "name": "stderr",
     "output_type": "stream",
     "text": [
      "C:\\Users\\lydia\\AppData\\Local\\Temp/ipykernel_16936/2554198543.py:2: ResourceWarning:\n",
      "\n",
      "unclosed file <_io.BufferedWriter name='T_scaler.pkl'>\n",
      "\n"
     ]
    }
   ],
   "source": [
    "from pickle import dump\n",
    "wp1_scaler=dump(scaler, open('T_scaler.pkl', 'wb'))"
   ]
  },
  {
   "cell_type": "markdown",
   "id": "circular-logic",
   "metadata": {},
   "source": [
    "                                            Turbine1\n",
    "    "
   ]
  }
 ],
 "metadata": {
  "kernelspec": {
   "display_name": "Python 3 (ipykernel)",
   "language": "python",
   "name": "python3"
  },
  "language_info": {
   "codemirror_mode": {
    "name": "ipython",
    "version": 3
   },
   "file_extension": ".py",
   "mimetype": "text/x-python",
   "name": "python",
   "nbconvert_exporter": "python",
   "pygments_lexer": "ipython3",
   "version": "3.8.5"
  }
 },
 "nbformat": 4,
 "nbformat_minor": 5
}
